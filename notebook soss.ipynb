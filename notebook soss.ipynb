{
 "cells": [
  {
   "cell_type": "markdown",
   "metadata": {
    "tags": []
   },
   "source": [
    "# Parallelization\n",
    "\n",
    "## Notes on Parallelization in Turing.jl\n",
    "\n",
    "`~` is only thread safe for observations not assumptions: https://github.com/TuringLang/Turing.jl/blob/master/HISTORY.md\n",
    "\n",
    "This makes sampling from the prior a bit difficult, since we need to fill the observation with an assumption.\n",
    "However, the following macro can be used to disable threading depending on a condition. Usage:\n",
    "\n",
    "```julia\n",
    "@maybethreads <condition> for ...\n",
    "```\n",
    "\n",
    "## Install multi-threaded kernel"
   ]
  },
  {
   "cell_type": "markdown",
   "metadata": {},
   "source": [
    "```julia\n",
    "using Pkg\n",
    "Pkg.activate(\"\")\n",
    "using IJulia\n",
    "IJulia.installkernel(\"Julia 6 Threads\", env=Dict(\n",
    "    \"JULIA_NUM_THREADS\" => \"6\",\n",
    "))\n",
    "```"
   ]
  },
  {
   "cell_type": "code",
   "execution_count": 1,
   "metadata": {},
   "outputs": [
    {
     "data": {
      "text/plain": [
       "@maybethreads (macro with 1 method)"
      ]
     },
     "execution_count": 1,
     "metadata": {},
     "output_type": "execute_result"
    }
   ],
   "source": [
    "using Base.Threads\n",
    "macro maybethreads(cond, ex)\n",
    "    return esc(:($cond ? (@threads $ex) : $ex))\n",
    "end"
   ]
  },
  {
   "cell_type": "code",
   "execution_count": 2,
   "metadata": {
    "tags": []
   },
   "outputs": [
    {
     "name": "stdout",
     "output_type": "stream",
     "text": [
      "3 10 5 4 9 1 7 6 8 2 "
     ]
    },
    {
     "data": {
      "text/plain": [
       "6"
      ]
     },
     "execution_count": 2,
     "metadata": {},
     "output_type": "execute_result"
    }
   ],
   "source": [
    "@maybethreads true for i in 1:10\n",
    "    print(\"$i \")\n",
    "end\n",
    "Threads.nthreads()"
   ]
  },
  {
   "cell_type": "markdown",
   "metadata": {},
   "source": [
    "# Setup Environment\n",
    "Using vscode with a custom kernel might result in the X11 DISPLAY variable not being found.\n",
    "The easiest workaround is to start an external kernel, for example via `jupyter-server`."
   ]
  },
  {
   "cell_type": "code",
   "execution_count": 3,
   "metadata": {
    "tags": []
   },
   "outputs": [
    {
     "name": "stderr",
     "output_type": "stream",
     "text": [
      "\u001b[32m\u001b[1m  Activating\u001b[22m\u001b[39m environment at `~/code/mcmc-depth-images/Project.toml`\n",
      "\u001b[32m\u001b[1mPrecompiling\u001b[22m\u001b[39m project...\n",
      "\u001b[32m  ✓ \u001b[39mBenchmarkTools\n",
      "\u001b[32m  ✓ \u001b[39mSoss\n",
      "\u001b[32m  ✓ \u001b[39m\u001b[90mPlots\u001b[39m\n",
      "\u001b[32m  ✓ \u001b[39mStatsPlots\n",
      "\u001b[32m  ✓ \u001b[39mMCMCDepth\n",
      "  5 dependencies successfully precompiled in 57 seconds (340 already precompiled)\n",
      "┌ Info: Precompiling Soss [8ce77f84-9b61-11e8-39ff-d17a774bf41c]\n",
      "└ @ Base loading.jl:1342\n",
      "┌ Info: Precompiling BenchmarkTools [6e4b80f9-dd63-53aa-95a3-0cdb28fa8baf]\n",
      "└ @ Base loading.jl:1342\n",
      "┌ Info: Precompiling StatsPlots [f3b207a7-027a-5e70-b257-86293d7955fd]\n",
      "└ @ Base loading.jl:1342\n",
      "┌ Info: For saving to png with the Plotly backend PlotlyBase has to be installed.\n",
      "└ @ Plots /home/rd/.julia/packages/Plots/PomtQ/src/backends.jl:432\n"
     ]
    },
    {
     "data": {
      "text/plain": [
       "Plots.PlotlyBackend()"
      ]
     },
     "execution_count": 3,
     "metadata": {},
     "output_type": "execute_result"
    }
   ],
   "source": [
    "using Pkg\n",
    "Pkg.activate(\".\")\n",
    "Pkg.instantiate()\n",
    "using MCMCDepth\n",
    "using GLAbstraction, GLFW, SciGL\n",
    "# TODO How to avoid adding them (automatically install / use with SciGL.jl)\n",
    "using LinearAlgebra, CoordinateTransformations, Rotations\n",
    "using Images\n",
    "using Soss, MeasureTheory\n",
    "using TransformVariables\n",
    "using BenchmarkTools, DataFrames, StatsPlots\n",
    "plotly()"
   ]
  },
  {
   "cell_type": "markdown",
   "metadata": {},
   "source": [
    "# Initialize the **OpenGL** offscreen render context\n"
   ]
  },
  {
   "cell_type": "code",
   "execution_count": 4,
   "metadata": {},
   "outputs": [],
   "source": [
    "const WIDTH = 150\n",
    "const HEIGHT = 150\n",
    "# Create the GLFW window. This sets all the hints and makes the context current.\n",
    "window = context_offscreen(WIDTH, HEIGHT)\n",
    "# Buffer\n",
    "framebuffer = depth_framebuffer(WIDTH, HEIGHT)\n",
    "enable_depth_stencil()\n",
    "set_clear_color()\n",
    "# Shader Program\n",
    "depth_prog = GLAbstraction.Program(SimpleVert, DepthFrag);"
   ]
  },
  {
   "cell_type": "markdown",
   "metadata": {},
   "source": [
    "Load the the camera and mesh. Wrap them in a scene for simplified rendering.\n"
   ]
  },
  {
   "cell_type": "code",
   "execution_count": 5,
   "metadata": {},
   "outputs": [],
   "source": [
    "camera = CvCamera(WIDTH, HEIGHT, 1.2 * WIDTH, 1.2 * HEIGHT, WIDTH / 2, HEIGHT / 2) |> SceneObject\n",
    "monkey = load_mesh(depth_prog, \"meshes/monkey.obj\") |> SceneObject\n",
    "cube = load_mesh(depth_prog, \"meshes/cube.obj\") |> SceneObject\n",
    "scene = Scene(camera, [monkey, cube]);"
   ]
  },
  {
   "cell_type": "code",
   "execution_count": 6,
   "metadata": {},
   "outputs": [],
   "source": [
    "function render_depth(scene::Scene)\n",
    "    GLAbstraction.bind(framebuffer)\n",
    "    clear_buffers()\n",
    "    draw(depth_prog, scene)\n",
    "    # load float values\n",
    "    img = channelview(gpu_data(framebuffer, 1))\n",
    "    transpose(img[:,end:-1:1])\n",
    "end;"
   ]
  },
  {
   "cell_type": "markdown",
   "metadata": {},
   "source": [
    "# Render the nominal scene\n",
    "This is the scene without any noise in the pose or sensor."
   ]
  },
  {
   "cell_type": "code",
   "execution_count": 7,
   "metadata": {},
   "outputs": [
    {
     "data": {
      "image/png": "[encoded data removed]",
      "text/plain": [
       "150×150 Array{RGB,2} with eltype RGB:\n",
       " RGB{N0f8}(0.0,0.0,0.0)  RGB{N0f8}(0.0,0.0,0.0)  …  RGB{N0f8}(0.0,0.0,0.0)\n",
       " RGB{N0f8}(0.0,0.0,0.0)  RGB{N0f8}(0.0,0.0,0.0)     RGB{N0f8}(0.0,0.0,0.0)\n",
       " RGB{N0f8}(0.0,0.0,0.0)  RGB{N0f8}(0.0,0.0,0.0)     RGB{N0f8}(0.0,0.0,0.0)\n",
       " RGB{N0f8}(0.0,0.0,0.0)  RGB{N0f8}(0.0,0.0,0.0)     RGB{N0f8}(0.0,0.0,0.0)\n",
       " RGB{N0f8}(0.0,0.0,0.0)  RGB{N0f8}(0.0,0.0,0.0)     RGB{N0f8}(0.0,0.0,0.0)\n",
       " RGB{N0f8}(0.0,0.0,0.0)  RGB{N0f8}(0.0,0.0,0.0)  …  RGB{N0f8}(0.0,0.0,0.0)\n",
       " RGB{N0f8}(0.0,0.0,0.0)  RGB{N0f8}(0.0,0.0,0.0)     RGB{N0f8}(0.0,0.0,0.0)\n",
       " RGB{N0f8}(0.0,0.0,0.0)  RGB{N0f8}(0.0,0.0,0.0)     RGB{N0f8}(0.0,0.0,0.0)\n",
       " RGB{N0f8}(0.0,0.0,0.0)  RGB{N0f8}(0.0,0.0,0.0)     RGB{N0f8}(0.0,0.0,0.0)\n",
       " RGB{N0f8}(0.0,0.0,0.0)  RGB{N0f8}(0.0,0.0,0.0)     RGB{N0f8}(0.0,0.0,0.0)\n",
       " RGB{N0f8}(0.0,0.0,0.0)  RGB{N0f8}(0.0,0.0,0.0)  …  RGB{N0f8}(0.0,0.0,0.0)\n",
       " RGB{N0f8}(0.0,0.0,0.0)  RGB{N0f8}(0.0,0.0,0.0)     RGB{N0f8}(0.0,0.0,0.0)\n",
       " RGB{N0f8}(0.0,0.0,0.0)  RGB{N0f8}(0.0,0.0,0.0)     RGB{N0f8}(0.0,0.0,0.0)\n",
       " ⋮                                               ⋱  \n",
       " RGB{N0f8}(0.0,0.0,0.0)  RGB{N0f8}(0.0,0.0,0.0)     RGB{N0f8}(0.0,0.0,0.0)\n",
       " RGB{N0f8}(0.0,0.0,0.0)  RGB{N0f8}(0.0,0.0,0.0)     RGB{N0f8}(0.0,0.0,0.0)\n",
       " RGB{N0f8}(0.0,0.0,0.0)  RGB{N0f8}(0.0,0.0,0.0)  …  RGB{N0f8}(0.0,0.0,0.0)\n",
       " RGB{N0f8}(0.0,0.0,0.0)  RGB{N0f8}(0.0,0.0,0.0)     RGB{N0f8}(0.0,0.0,0.0)\n",
       " RGB{N0f8}(0.0,0.0,0.0)  RGB{N0f8}(0.0,0.0,0.0)     RGB{N0f8}(0.0,0.0,0.0)\n",
       " RGB{N0f8}(0.0,0.0,0.0)  RGB{N0f8}(0.0,0.0,0.0)     RGB{N0f8}(0.0,0.0,0.0)\n",
       " RGB{N0f8}(0.0,0.0,0.0)  RGB{N0f8}(0.0,0.0,0.0)     RGB{N0f8}(0.0,0.0,0.0)\n",
       " RGB{N0f8}(0.0,0.0,0.0)  RGB{N0f8}(0.0,0.0,0.0)  …  RGB{N0f8}(0.0,0.0,0.0)\n",
       " RGB{N0f8}(0.0,0.0,0.0)  RGB{N0f8}(0.0,0.0,0.0)     RGB{N0f8}(0.0,0.0,0.0)\n",
       " RGB{N0f8}(0.0,0.0,0.0)  RGB{N0f8}(0.0,0.0,0.0)     RGB{N0f8}(0.0,0.0,0.0)\n",
       " RGB{N0f8}(0.0,0.0,0.0)  RGB{N0f8}(0.0,0.0,0.0)     RGB{N0f8}(0.0,0.0,0.0)\n",
       " RGB{N0f8}(0.0,0.0,0.0)  RGB{N0f8}(0.0,0.0,0.0)     RGB{N0f8}(0.0,0.0,0.0)"
      ]
     },
     "execution_count": 7,
     "metadata": {},
     "output_type": "execute_result"
    }
   ],
   "source": [
    "t = [0, 0, 2.]\n",
    "cov_t = [.1 0 0; 0 .1 0; 0 0 .1]\n",
    "r = [0, π, 0]\n",
    "monkey.pose.t = Translation(t)\n",
    "monkey.pose.R = RotZYX(r...)\n",
    "cube.pose.t = Translation(t + [0.5, 0, 0.2])\n",
    "camera.pose.R = lookat(camera, monkey, [0, 1, 0]);\n",
    "colorize_depth(render_depth(scene))"
   ]
  },
  {
   "cell_type": "markdown",
   "metadata": {},
   "source": [
    "# Probabilistic Model\n"
   ]
  },
  {
   "cell_type": "markdown",
   "metadata": {},
   "source": [
    "Soss expects a symbol on the left side -> workaround is to encapsulate everything in one function. This also cleans up the code.\n"
   ]
  },
  {
   "cell_type": "code",
   "execution_count": 8,
   "metadata": {},
   "outputs": [
    {
     "data": {
      "image/png": "[encoded data removed]",
      "text/plain": [
       "150×150 Array{RGB,2} with eltype RGB:\n",
       " RGB{N0f8}(0.0,0.0,0.0)  RGB{N0f8}(0.0,0.0,0.0)  …  RGB{N0f8}(0.0,0.0,0.0)\n",
       " RGB{N0f8}(0.0,0.0,0.0)  RGB{N0f8}(0.0,0.0,0.0)     RGB{N0f8}(0.0,0.0,0.0)\n",
       " RGB{N0f8}(0.0,0.0,0.0)  RGB{N0f8}(0.0,0.0,0.0)     RGB{N0f8}(0.0,0.0,0.0)\n",
       " RGB{N0f8}(0.0,0.0,0.0)  RGB{N0f8}(0.0,0.0,0.0)     RGB{N0f8}(0.0,0.0,0.0)\n",
       " RGB{N0f8}(0.0,0.0,0.0)  RGB{N0f8}(0.0,0.0,0.0)     RGB{N0f8}(0.0,0.0,0.0)\n",
       " RGB{N0f8}(0.0,0.0,0.0)  RGB{N0f8}(0.0,0.0,0.0)  …  RGB{N0f8}(0.0,0.0,0.0)\n",
       " RGB{N0f8}(0.0,0.0,0.0)  RGB{N0f8}(0.0,0.0,0.0)     RGB{N0f8}(0.0,0.0,0.0)\n",
       " RGB{N0f8}(0.0,0.0,0.0)  RGB{N0f8}(0.0,0.0,0.0)     RGB{N0f8}(0.0,0.0,0.0)\n",
       " RGB{N0f8}(0.0,0.0,0.0)  RGB{N0f8}(0.0,0.0,0.0)     RGB{N0f8}(0.0,0.0,0.0)\n",
       " RGB{N0f8}(0.0,0.0,0.0)  RGB{N0f8}(0.0,0.0,0.0)     RGB{N0f8}(0.0,0.0,0.0)\n",
       " RGB{N0f8}(0.0,0.0,0.0)  RGB{N0f8}(0.0,0.0,0.0)  …  RGB{N0f8}(0.0,0.0,0.0)\n",
       " RGB{N0f8}(0.0,0.0,0.0)  RGB{N0f8}(0.0,0.0,0.0)     RGB{N0f8}(0.0,0.0,0.0)\n",
       " RGB{N0f8}(0.0,0.0,0.0)  RGB{N0f8}(0.0,0.0,0.0)     RGB{N0f8}(0.0,0.0,0.0)\n",
       " ⋮                                               ⋱  \n",
       " RGB{N0f8}(0.0,0.0,0.0)  RGB{N0f8}(0.0,0.0,0.0)     RGB{N0f8}(0.0,0.0,0.0)\n",
       " RGB{N0f8}(0.0,0.0,0.0)  RGB{N0f8}(0.0,0.0,0.0)     RGB{N0f8}(0.0,0.0,0.0)\n",
       " RGB{N0f8}(0.0,0.0,0.0)  RGB{N0f8}(0.0,0.0,0.0)  …  RGB{N0f8}(0.0,0.0,0.0)\n",
       " RGB{N0f8}(0.0,0.0,0.0)  RGB{N0f8}(0.0,0.0,0.0)     RGB{N0f8}(0.0,0.0,0.0)\n",
       " RGB{N0f8}(0.0,0.0,0.0)  RGB{N0f8}(0.0,0.0,0.0)     RGB{N0f8}(0.0,0.0,0.0)\n",
       " RGB{N0f8}(0.0,0.0,0.0)  RGB{N0f8}(0.0,0.0,0.0)     RGB{N0f8}(0.0,0.0,0.0)\n",
       " RGB{N0f8}(0.0,0.0,0.0)  RGB{N0f8}(0.0,0.0,0.0)     RGB{N0f8}(0.0,0.0,0.0)\n",
       " RGB{N0f8}(0.0,0.0,0.0)  RGB{N0f8}(0.0,0.0,0.0)  …  RGB{N0f8}(0.0,0.0,0.0)\n",
       " RGB{N0f8}(0.0,0.0,0.0)  RGB{N0f8}(0.0,0.0,0.0)     RGB{N0f8}(0.0,0.0,0.0)\n",
       " RGB{N0f8}(0.0,0.0,0.0)  RGB{N0f8}(0.0,0.0,0.0)     RGB{N0f8}(0.0,0.0,0.0)\n",
       " RGB{N0f8}(0.0,0.0,0.0)  RGB{N0f8}(0.0,0.0,0.0)     RGB{N0f8}(0.0,0.0,0.0)\n",
       " RGB{N0f8}(0.0,0.0,0.0)  RGB{N0f8}(0.0,0.0,0.0)     RGB{N0f8}(0.0,0.0,0.0)"
      ]
     },
     "execution_count": 8,
     "metadata": {},
     "output_type": "execute_result"
    }
   ],
   "source": [
    "function render_pose_depth(scene, t, r)\n",
    "    scene.meshes[1].pose.t = Translation(t)\n",
    "    scene.meshes[1].pose.R = RotZYX(r...)\n",
    "    render_depth(scene)\n",
    "end \n",
    "colorize_depth(render_pose_depth(scene, t + [0, 0, -0.5], r + [.5, 0, 0]))"
   ]
  },
  {
   "cell_type": "markdown",
   "metadata": {},
   "source": [
    "Describes how the data is generated given:\n",
    "\n",
    "- A `scene` with all relevant object, the first object is assumed to be the object of interest\n",
    "- The RFID measurement for the position with the mean and covariance `mean_t` & `cov_t`\n",
    "- The model will be conditioned on the depth image `y`\n"
   ]
  },
  {
   "cell_type": "code",
   "execution_count": 56,
   "metadata": {},
   "outputs": [
    {
     "name": "stderr",
     "output_type": "stream",
     "text": [
      "WARNING: redefinition of constant MAX_DIST. This may fail, cause incorrect answers, or produce other errors.\n"
     ]
    },
    {
     "ename": "LoadError",
     "evalue": "invalid redefinition of constant ZERO_IMG",
     "output_type": "error",
     "traceback": [
      "invalid redefinition of constant ZERO_IMG",
      "",
      "Stacktrace:",
      " [1] top-level scope",
      "   @ In[56]:6",
      " [2] eval",
      "   @ ./boot.jl:360 [inlined]",
      " [3] include_string(mapexpr::typeof(REPL.softscope), mod::Module, code::String, filename::String)",
      "   @ Base ./loading.jl:1116"
     ]
    }
   ],
   "source": [
    "# TODO Outliers ∉[0,MAX_DIST] must be handled by preprocessing\n",
    "const MAX_DIST = 2.0\n",
    "const PIXEL_σ = 0.01\n",
    "# θ=1/λ\n",
    "const PIXEL_θ = 1/0.5\n",
    "const ZERO_IMG = zeros(WIDTH, HEIGHT);"
   ]
  },
  {
   "cell_type": "code",
   "execution_count": 57,
   "metadata": {},
   "outputs": [
    {
     "data": {
      "text/plain": [
       "(r = [5.693962662767754, 6.0728525471145804, 1.7689508371176856], occlusion = [0.9490875525252702 0.7166164308753928 … 0.3749155529628403 0.9386412907113184; 0.1893209588254241 0.8089142488064336 … 0.7830568317429245 0.17343726681490446; … ; 0.9201482521217501 0.38577235822803724 … 0.5344445578631567 0.5583788724911714; 0.5642057215841407 0.7607724051066675 … 0.45589174316020364 0.6290600022471351], t = [-0.08248082340941977, -0.05259049685390426, 2.189899167744401])"
      ]
     },
     "execution_count": 57,
     "metadata": {},
     "output_type": "execute_result"
    }
   ],
   "source": [
    "prior_model = @model mean_t, cov_t begin\n",
    "    # Sample position from RFID position\n",
    "    t ~ MvNormal(mean_t, cov_t)\n",
    "    # We don't know anything about the orientation or the occlusion\n",
    "    r ~ For(1:3) do _ CircularUniform() end\n",
    "    occlusion .~ UniformInterval.(ZERO_IMG, 1)\n",
    "end\n",
    "θ1 = rand(prior_model(mean_t=t, cov_t=cov_t))"
   ]
  },
  {
   "cell_type": "markdown",
   "metadata": {
    "tags": []
   },
   "source": [
    "Generate one sample from the probabilistic model. Ideally, this should be representative for a measurement, we expect from the real world scene."
   ]
  },
  {
   "cell_type": "code",
   "execution_count": 62,
   "metadata": {},
   "outputs": [],
   "source": [
    "observation_model = @model scene, t, r, occlusion begin\n",
    "    # Render scene\n",
    "    μ = render_pose_depth(scene, t, r)\n",
    "    # Sensor model\n",
    "    occluded .~ Bernoulli.(occlusion)\n",
    "    obs ~ For(eachindex(μ)) do i\n",
    "        if (μ[i] != 0)\n",
    "            if occluded[i]\n",
    "                # TODO check Distributions.jl parametrization\n",
    "                Exponential(PIXEL_θ)\n",
    "            else\n",
    "                Normal(μ[i], PIXEL_σ)\n",
    "            end\n",
    "        else\n",
    "            UniformInterval(0, MAX_DIST)\n",
    "        end\n",
    "    end\n",
    "end;"
   ]
  },
  {
   "cell_type": "markdown",
   "metadata": {
    "tags": []
   },
   "source": [
    "Generate one sample from the probabilistic model. Ideally, this should be representative for a measurement, we expect from the real world sensor."
   ]
  },
  {
   "cell_type": "code",
   "execution_count": 63,
   "metadata": {},
   "outputs": [
    {
     "data": {
      "image/png": "[encoded data removed]",
      "text/plain": [
       "150×150 Array{RGB,2} with eltype RGB:\n",
       " RGB{Float64}(0.663052,0.861144,0.199555)   …  RGB{Float64}(0.788457,0.879971,0.122746)\n",
       " RGB{Float64}(0.827891,0.885094,0.105197)      RGB{Float64}(0.95965,0.901635,0.120764)\n",
       " RGB{Float64}(0.552404,0.839569,0.271243)      RGB{Float64}(0.560717,0.841391,0.265934)\n",
       " RGB{Float64}(0.581085,0.84571,0.252856)       RGB{Float64}(0.553637,0.839843,0.270458)\n",
       " RGB{Float64}(0.678514,0.863746,0.189487)      RGB{Float64}(0.52361,0.832975,0.289489)\n",
       " RGB{Float64}(0.920103,0.896576,0.10203)    …  RGB{Float64}(0.584329,0.846382,0.250766)\n",
       " RGB{Float64}(0.962017,0.901946,0.122198)      RGB{Float64}(0.976146,0.903824,0.131438)\n",
       " RGB{Float64}(0.753509,0.875179,0.142273)      RGB{Float64}(0.744957,0.87396,0.147408)\n",
       " RGB{Float64}(0.805216,0.88218,0.114506)       RGB{Float64}(0.89306,0.893213,0.0960232)\n",
       " RGB{Float64}(0.902155,0.89434,0.0973805)      RGB{Float64}(0.911487,0.895499,0.0994759)\n",
       " RGB{Float64}(0.974571,0.903611,0.130324)   …  RGB{Float64}(0.915373,0.895983,0.10049)\n",
       " RGB{Float64}(0.514815,0.830871,0.295016)      RGB{Float64}(0.605436,0.850613,0.237107)\n",
       " RGB{Float64}(0.523428,0.832931,0.289603)      RGB{Float64}(0.643119,0.857657,0.212562)\n",
       " ⋮                                          ⋱  \n",
       " RGB{Float64}(0.624418,0.854238,0.224761)      RGB{Float64}(0.740217,0.873278,0.150282)\n",
       " RGB{Float64}(0.800225,0.881527,0.116878)      RGB{Float64}(0.89875,0.893917,0.0967704)\n",
       " RGB{Float64}(0.953159,0.900788,0.116956)   …  RGB{Float64}(0.786849,0.879756,0.123578)\n",
       " RGB{Float64}(0.963791,0.902178,0.123273)      RGB{Float64}(0.950972,0.900505,0.115759)\n",
       " RGB{Float64}(0.623287,0.854025,0.225497)      RGB{Float64}(0.689844,0.865592,0.182144)\n",
       " RGB{Float64}(0.759941,0.876082,0.138493)      RGB{Float64}(0.975591,0.903749,0.131045)\n",
       " RGB{Float64}(0.852396,0.888175,0.0982015)     RGB{Float64}(0.708034,0.868461,0.170451)\n",
       " RGB{Float64}(0.92104,0.896694,0.102348)    …  RGB{Float64}(0.876212,0.89113,0.0952505)\n",
       " RGB{Float64}(0.892097,0.893094,0.0959311)     RGB{Float64}(0.931702,0.898038,0.10639)\n",
       " RGB{Float64}(0.713042,0.86923,0.167263)       RGB{Float64}(0.610795,0.851649,0.233625)\n",
       " RGB{Float64}(0.818091,0.883843,0.108946)      RGB{Float64}(0.791966,0.880439,0.120933)\n",
       " RGB{Float64}(0.54644,0.838243,0.275042)       RGB{Float64}(0.970838,0.903114,0.127857)"
      ]
     },
     "execution_count": 63,
     "metadata": {},
     "output_type": "execute_result"
    }
   ],
   "source": [
    "prior_depth = rand(observation_model(scene=scene)(θ1))\n",
    "colorize_depth(prior_depth.obs)"
   ]
  },
  {
   "cell_type": "code",
   "execution_count": 65,
   "metadata": {},
   "outputs": [
    {
     "name": "stderr",
     "output_type": "stream",
     "text": [
      "WARNING: redefinition of constant PROPOSAL_σ_t. This may fail, cause incorrect answers, or produce other errors.\n",
      "WARNING: redefinition of constant PROPOSAL_σ_r. This may fail, cause incorrect answers, or produce other errors.\n",
      "WARNING: redefinition of constant PROPOSAL_σ_o. This may fail, cause incorrect answers, or produce other errors.\n"
     ]
    }
   ],
   "source": [
    "const PROPOSAL_σ_t = [0.01, 0.01, 0.01]\n",
    "const PROPOSAL_σ_r = [0.1, 0.1, 0.1]\n",
    "const PROPOSAL_σ_o = fill(0.5, WIDTH, HEIGHT);"
   ]
  },
  {
   "cell_type": "code",
   "execution_count": 67,
   "metadata": {},
   "outputs": [
    {
     "data": {
      "text/plain": [
       "(t = [-0.0032630197549308867, -0.00488839588479333, -0.0033542394672732402], r = [-0.17087391167678068, 0.05002002950285226, 0.26556723424394924], occluded = [-0.5251076435536248 -0.24538847482277126 … 0.9060312938998286 -0.09889674142224765; 0.6053053216132073 0.4196474002031312 … -0.3600387897837244 -0.09173134945991131; … ; -0.6342431598099119 -0.673782691580048 … 0.9447209987432029 -0.620842339316073; 0.8213232778541503 0.019737897680463454 … -0.6242916966180636 -0.8256212949342696])"
      ]
     },
     "execution_count": 67,
     "metadata": {},
     "output_type": "execute_result"
    }
   ],
   "source": [
    "proposal_model = @model scene, mean_t, cov_t begin\n",
    "    # Sample position from RFID position\n",
    "    t .~ Normal.(0, PROPOSAL_σ_t)\n",
    "    # We don't know anything about the orientation or the occlusion\n",
    "    r .~ Normal.(0, PROPOSAL_σ_r)\n",
    "    occluded .~ Normal.(0, PROPOSAL_σ_o)\n",
    "end;\n",
    "rand(proposal_model)"
   ]
  },
  {
   "cell_type": "markdown",
   "metadata": {},
   "source": [
    "# Metropolis Hastings implementation\n",
    "Store the required variables in a struct:\n",
    "- `m`: the full model\n",
    "- `proposals`: variables to propose, other variables are sampled via ancestral sampling\n",
    "- `data`: fit the model parameters to these observations\n",
    "- `q`: model for the variables in `proposals`, e.g. before(m, (:a, :b))(args)\n",
    "- `f`: model for the internal variables, must not include observations, moves params to args, e.g. predictive(m, (:a, :b))(args)\n",
    "- `ℓ`: logdensity for the model parameters θ conditioned on the data, e.g. ℓ(θ)=logdensity(m(args) | data, θ)"
   ]
  },
  {
   "cell_type": "code",
   "execution_count": null,
   "metadata": {},
   "outputs": [],
   "source": [
    "# Immutable for a given set of args and parameters -> new data new MetropolisHastings\n",
    "struct MetropolisHastings\n",
    "    m::Soss.AbstractModel\n",
    "    propsals::Tuple\n",
    "    data::NamedTuple \n",
    "    q::Soss.ConditionalModel\n",
    "    f::Soss.ConditionalModel\n",
    "    ℓ::Function\n",
    "end\n",
    "\n",
    "function MetropolisHastings(m::Soss.Model, args::NamedTuple, proposals::Tuple, data::NamedTuple)\n",
    "    # only proposal variables\n",
    "    q = Soss.before(m, proposals...)(args)\n",
    "    # other variables except observations, moves params to args\n",
    "    f = prior(predictive(m, proposals...), keys(data)...)(args)\n",
    "    # function to calculate the loglikelihood\n",
    "    ℓ(θ) = logdensity(m(args) | data, θ)\n",
    "    MetropolisHastings(m, proposals, data, q, f, ℓ)\n",
    "end\n",
    "\n",
    "args = (;scene=scene, mean_t=t, cov_t=cov_t)\n",
    "proposals = (:t, :r_uniform, :occ_prob)\n",
    "data = (;y=nominal_depth)\n",
    "mh = MetropolisHastings(depth_model, args, proposals, data);"
   ]
  },
  {
   "cell_type": "markdown",
   "metadata": {},
   "source": [
    "# Proposals\n",
    "## Prior Proposal\n",
    "Draws a random sample from the prior distribution. Results in a worse acceptance rate, if the posterior is focused on a small parameter space."
   ]
  },
  {
   "cell_type": "code",
   "execution_count": null,
   "metadata": {},
   "outputs": [],
   "source": [
    "function propose_prior(mh::MetropolisHastings)\n",
    "  ## propose, predict, concatenate, weight\n",
    "  s1 = rand(mh.q)\n",
    "  s2 = rand(mh.f(s1))\n",
    "  s = (;s1..., s2...)\n",
    "  Weighted(mh.ℓ(s), s)\n",
    "end\n",
    "s1 = propose_prior(mh)\n",
    "s2 = propose_prior(mh);"
   ]
  },
  {
   "cell_type": "markdown",
   "metadata": {},
   "source": [
    "# Gaussian Proposal\n",
    "Propose a new sample from the old sample `s` by sampling using a normal distribution centered around the value of the old parameter.\n",
    "Might lead to a higher acceptance rate for focused posteriors.\n",
    "Current implementation is brittle: If the parameters are bounded, e.g. $\\lambda$ of a Poisson distribution. Mature libraries like Turing.jl typically take care of this by transforming variables to the space of all real numbers and back to the constrained space."
   ]
  },
  {
   "cell_type": "markdown",
   "metadata": {},
   "source": [
    "# TODO does not work yet, probably the occlusion\n",
    "```julia\n",
    "function propose_normal(mh::MetropolisHastings, s::Weighted, σ=0.01)\n",
    "  old_sample = s.val\n",
    "  s1 = (;)\n",
    "  for (k, v) in pairs(old_sample)\n",
    "    # Other variables are sampled via f\n",
    "    if k in mh.propsals\n",
    "      # TODO parameter values might become invalid (i.e. negative for poisson)\n",
    "      new_val = rand.(Normal.(v, σ))\n",
    "      # if the parameter is an integer, the new one should also be\n",
    "      if v isa Int\n",
    "        new_val = Int(round(new_v))\n",
    "      end\n",
    "      s1 = merge(s1, (;k => new_val))\n",
    "    end\n",
    "  end\n",
    "  s2 = rand(mh.f(s1))\n",
    "  s = (;s1..., s2...)\n",
    "  Weighted(mh.ℓ(s), s)\n",
    "end\n",
    "s2 = propose_normal(mh, s1, 2)\n",
    "```"
   ]
  },
  {
   "cell_type": "markdown",
   "metadata": {},
   "source": [
    "# Kernels\n",
    "Returns either the `old_sample` or the `new_sample` depending on their probability and the `acceptance` rate $\\in [0,1]$ . Simplified by using a normal distribution for the proposal, which is symmetric."
   ]
  },
  {
   "cell_type": "code",
   "execution_count": null,
   "metadata": {},
   "outputs": [],
   "source": [
    "function mh_symmetric_kernel(old_sample::Weighted, new_sample::Weighted)\n",
    "  u = rand(Uniform())\n",
    "  # Mind the log-domain: division becomes subtraction\n",
    "  if log(u) > new_sample.ℓ - old_sample.ℓ\n",
    "    # reject\n",
    "    return old_sample\n",
    "  else\n",
    "    # accept (always the case if difference positive since log([0,1])->[-inf,0])\n",
    "    return new_sample\n",
    "  end\n",
    "end\n",
    "mh_symmetric_kernel(s1, s2);"
   ]
  },
  {
   "cell_type": "markdown",
   "metadata": {},
   "source": [
    "# Evaluation"
   ]
  },
  {
   "cell_type": "code",
   "execution_count": null,
   "metadata": {},
   "outputs": [],
   "source": [
    "function sample_chain(;num_samples = 1_000, use_threads=true)\n",
    "    chain = [propose_prior(mh)]\n",
    "    lk = SpinLock()\n",
    "    @maybethreads use_threads for _ in 2:num_samples\n",
    "        lock(lk)\n",
    "        try\n",
    "            new_sample = last(chain)\n",
    "        finally\n",
    "            unlock(lk)\n",
    "        end\n",
    "        # worse mixing than normal\n",
    "        new_sample = propose_prior(mh)\n",
    "        new_sample = mh_symmetric_kernel(last(chain), new_sample)\n",
    "        lock(lk)\n",
    "        try\n",
    "            push!(chain, new_sample)\n",
    "        finally\n",
    "            unlock(lk)\n",
    "        end\n",
    "    end\n",
    "    chain\n",
    "end;"
   ]
  },
  {
   "cell_type": "code",
   "execution_count": null,
   "metadata": {},
   "outputs": [],
   "source": [
    "chain = sample_chain(num_samples = 20_000, use_threads=true)"
   ]
  },
  {
   "cell_type": "markdown",
   "metadata": {},
   "source": [
    "# Plots\n",
    "A sample is a tuple of the log-likelihood and the vales. Therefore, create a new dataframe, which has the likelihood in the same row as the samples value."
   ]
  },
  {
   "cell_type": "code",
   "execution_count": null,
   "metadata": {},
   "outputs": [],
   "source": [
    "df_c = DataFrame(chain)\n",
    "df = DataFrame(df_c.val)\n",
    "df[!,:ℓ] = df_c.ℓ;"
   ]
  },
  {
   "cell_type": "code",
   "execution_count": null,
   "metadata": {},
   "outputs": [],
   "source": [
    "t_samples = hcat(df.t...)'\n",
    "l1 = plot(t_samples[:,1], title=\"t[1] samples\")\n",
    "d1 = StatsPlots.density(t_samples[:,1], title=\"t[1] density\")\n",
    "l2 = plot(t_samples[:,2], title=\"t[2] samples\")\n",
    "d2 = StatsPlots.density(t_samples[:,2], title=\"t[2] density\")\n",
    "l3 = plot(t_samples[:,3], title=\"t[3] samples\")\n",
    "d3 = StatsPlots.density(t_samples[:,3], title=\"t[3] density\")\n",
    "plot(l1, d1, l2, d2, l3, d3, layout=(3,2), legend=false)"
   ]
  },
  {
   "cell_type": "code",
   "execution_count": null,
   "metadata": {},
   "outputs": [],
   "source": [
    "r_samples = hcat(df.r...)'\n",
    "l1 = plot(r_samples[:,1], title=\"r[1] samples\")\n",
    "d1 = StatsPlots.density(r_samples[:,1], title=\"r[1] density\")\n",
    "l2 = plot(r_samples[:,2], title=\"r[2] samples\")\n",
    "d2 = StatsPlots.density(r_samples[:,2], title=\"r[2] density\")\n",
    "l3 = plot(r_samples[:,3], title=\"r[3] samples\")\n",
    "d3 = StatsPlots.density(r_samples[:,3], title=\"r[3] density\")\n",
    "plot(l1, d1, l2, d2, l3, d3, layout=(3,2), legend=false)"
   ]
  },
  {
   "cell_type": "code",
   "execution_count": null,
   "metadata": {},
   "outputs": [],
   "source": [
    "colorview(Gray, mean(df.occ_prob))"
   ]
  },
  {
   "cell_type": "markdown",
   "metadata": {},
   "source": [
    "# Benchmark Broadcasting vs Loop\n"
   ]
  },
  {
   "cell_type": "code",
   "execution_count": null,
   "metadata": {},
   "outputs": [],
   "source": [
    "BenchmarkTools.DEFAULT_PARAMETERS.seconds = 60\n",
    "@benchmark sample_chain(num_samples = 5_000, use_threads=false)"
   ]
  },
  {
   "cell_type": "code",
   "execution_count": null,
   "metadata": {},
   "outputs": [],
   "source": [
    "BenchmarkTools.DEFAULT_PARAMETERS.seconds = 60\n",
    "@benchmark sample_chain(num_samples = 5_000, use_threads=true)"
   ]
  },
  {
   "cell_type": "markdown",
   "metadata": {},
   "source": [
    "# Scratchpad"
   ]
  },
  {
   "cell_type": "raw",
   "metadata": {},
   "source": [
    "simple_depth_model = @model scene, mean_t, cov_t begin\n",
    "    # Sample position from RFID position\n",
    "    t ~ MvNormal(mean_t, cov_t)\n",
    "    # We don't know anything about the orientation\n",
    "    r ~ For(1:3) do _ Uniform(0, 2π) end\n",
    "    \n",
    "    # Render scene\n",
    "    μ = render_pose_depth(scene, t, r)\n",
    "\n",
    "    # sensor model\n",
    "    y ~ For(eachindex(μ)) do i\n",
    "        Normal(μ[i], 0.1)\n",
    "    end\n",
    "end;"
   ]
  }
 ],
 "metadata": {
  "kernelspec": {
   "display_name": "Julia 6 Threads 1.6.3",
   "language": "julia",
   "name": "julia-6-threads-1.6"
  },
  "language_info": {
   "file_extension": ".jl",
   "mimetype": "application/julia",
   "name": "julia",
   "version": "1.6.3"
  }
 },
 "nbformat": 4,
 "nbformat_minor": 4
}
