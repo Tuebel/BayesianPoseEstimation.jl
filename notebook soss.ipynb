{
 "cells": [
  {
   "cell_type": "markdown",
   "metadata": {
    "tags": []
   },
   "source": [
    "# Parallelization\n",
    "\n",
    "## Notes on Parallelization in Turing.jl\n",
    "\n",
    "`~` is only thread safe for observations not assumptions: https://github.com/TuringLang/Turing.jl/blob/master/HISTORY.md\n",
    "\n",
    "This makes sampling from the prior a bit difficult, since we need to fill the observation with an assumption.\n",
    "However, the following macro can be used to disable threading depending on a condition. Usage:\n",
    "\n",
    "```julia\n",
    "@maybethreads <condition> for ...\n",
    "```\n",
    "\n",
    "## Install multi-threaded kernel"
   ]
  },
  {
   "cell_type": "markdown",
   "metadata": {},
   "source": [
    "```julia\n",
    "using Pkg\n",
    "Pkg.activate(\"\")\n",
    "using IJulia\n",
    "IJulia.installkernel(\"Julia 6 Threads\", env=Dict(\n",
    "    \"JULIA_NUM_THREADS\" => \"6\",\n",
    "))\n",
    "```"
   ]
  },
  {
   "cell_type": "code",
   "execution_count": 1,
   "metadata": {},
   "outputs": [
    {
     "data": {
      "text/plain": [
       "@maybethreads (macro with 1 method)"
      ]
     },
     "execution_count": 1,
     "metadata": {},
     "output_type": "execute_result"
    }
   ],
   "source": [
    "using Base.Threads\n",
    "macro maybethreads(cond, ex)\n",
    "    return esc(:($cond ? (@threads $ex) : $ex))\n",
    "end"
   ]
  },
  {
   "cell_type": "code",
   "execution_count": 2,
   "metadata": {
    "tags": []
   },
   "outputs": [
    {
     "name": "stdout",
     "output_type": "stream",
     "text": [
      "5 9 1 3 6 10 7 4 8 2 "
     ]
    },
    {
     "data": {
      "text/plain": [
       "6"
      ]
     },
     "execution_count": 2,
     "metadata": {},
     "output_type": "execute_result"
    }
   ],
   "source": [
    "@maybethreads true for i in 1:10\n",
    "    print(\"$i \")\n",
    "end\n",
    "Threads.nthreads()"
   ]
  },
  {
   "cell_type": "markdown",
   "metadata": {},
   "source": [
    "# Setup Environment\n",
    "Using vscode with a custom kernel might result in the X11 DISPLAY variable not being found.\n",
    "The easiest workaround is to start an external kernel, for example via `jupyter-server`."
   ]
  },
  {
   "cell_type": "code",
   "execution_count": 3,
   "metadata": {
    "tags": []
   },
   "outputs": [
    {
     "name": "stderr",
     "output_type": "stream",
     "text": [
      "\u001b[32m\u001b[1m  Activating\u001b[22m\u001b[39m environment at `~/code/mcmc-depth-images/Project.toml`\n",
      "\u001b[32m\u001b[1mPrecompiling\u001b[22m\u001b[39m project...\n",
      "\u001b[32m  ✓ \u001b[39mSoss\n",
      "\u001b[32m  ✓ \u001b[39m\u001b[90mPlots\u001b[39m\n",
      "\u001b[32m  ✓ \u001b[39mStatsPlots\n",
      "\u001b[32m  ✓ \u001b[39mMCMCDepth\n",
      "  4 dependencies successfully precompiled in 64 seconds (341 already precompiled)\n",
      "┌ Info: Precompiling MCMCDepth [ea9e20e3-5ec9-4a18-b9a5-f98be19e20e6]\n",
      "└ @ Base loading.jl:1342\n",
      "┌ Info: Precompiling StatsPlots [f3b207a7-027a-5e70-b257-86293d7955fd]\n",
      "└ @ Base loading.jl:1342\n",
      "┌ Info: For saving to png with the Plotly backend PlotlyBase has to be installed.\n",
      "└ @ Plots /home/rd/.julia/packages/Plots/PomtQ/src/backends.jl:432\n"
     ]
    },
    {
     "data": {
      "text/plain": [
       "Plots.PlotlyBackend()"
      ]
     },
     "execution_count": 3,
     "metadata": {},
     "output_type": "execute_result"
    }
   ],
   "source": [
    "using Pkg\n",
    "Pkg.activate(\".\")\n",
    "Pkg.instantiate()\n",
    "using MCMCDepth\n",
    "using GLAbstraction, GLFW, SciGL\n",
    "# TODO How to avoid adding them (automatically install / use with SciGL.jl)\n",
    "using LinearAlgebra, CoordinateTransformations, Rotations\n",
    "using Images\n",
    "using Soss, Distributions\n",
    "using TransformVariables\n",
    "using BenchmarkTools, DataFrames, StatsPlots\n",
    "plotly()"
   ]
  },
  {
   "cell_type": "markdown",
   "metadata": {},
   "source": [
    "# Initialize the **OpenGL** offscreen render context\n"
   ]
  },
  {
   "cell_type": "code",
   "execution_count": 4,
   "metadata": {},
   "outputs": [],
   "source": [
    "const WIDTH = 150\n",
    "const HEIGHT = 150\n",
    "# Create the GLFW window. This sets all the hints and makes the context current.\n",
    "window = context_offscreen(WIDTH, HEIGHT)\n",
    "# Buffer\n",
    "framebuffer = depth_framebuffer(WIDTH, HEIGHT)\n",
    "enable_depth_stencil()\n",
    "set_clear_color()\n",
    "# Shader Program\n",
    "depth_prog = GLAbstraction.Program(SimpleVert, DepthFrag);"
   ]
  },
  {
   "cell_type": "markdown",
   "metadata": {},
   "source": [
    "Load the the camera and mesh. Wrap them in a scene for simplified rendering.\n"
   ]
  },
  {
   "cell_type": "code",
   "execution_count": 5,
   "metadata": {},
   "outputs": [],
   "source": [
    "camera = CvCamera(WIDTH, HEIGHT, 1.2 * WIDTH, 1.2 * HEIGHT, WIDTH / 2, HEIGHT / 2) |> SceneObject\n",
    "monkey = load_mesh(depth_prog, \"meshes/monkey.obj\") |> SceneObject\n",
    "cube = load_mesh(depth_prog, \"meshes/cube.obj\") |> SceneObject\n",
    "scene = Scene(camera, [monkey, cube]);"
   ]
  },
  {
   "cell_type": "code",
   "execution_count": 6,
   "metadata": {},
   "outputs": [],
   "source": [
    "function render_depth(scene::Scene)\n",
    "    GLAbstraction.bind(framebuffer)\n",
    "    clear_buffers()\n",
    "    draw(depth_prog, scene)\n",
    "    # load float values\n",
    "    img = channelview(gpu_data(framebuffer, 1))\n",
    "    transpose(img[:,end:-1:1])\n",
    "end;"
   ]
  },
  {
   "cell_type": "markdown",
   "metadata": {},
   "source": [
    "# Render the nominal scene\n",
    "This is the scene without any noise in the pose or sensor."
   ]
  },
  {
   "cell_type": "code",
   "execution_count": 7,
   "metadata": {},
   "outputs": [
    {
     "data": {
      "image/png": "[encoded data removed]",
      "text/plain": [
       "150×150 Array{RGB,2} with eltype RGB:\n",
       " RGB{N0f8}(0.0,0.0,0.0)  RGB{N0f8}(0.0,0.0,0.0)  …  RGB{N0f8}(0.0,0.0,0.0)\n",
       " RGB{N0f8}(0.0,0.0,0.0)  RGB{N0f8}(0.0,0.0,0.0)     RGB{N0f8}(0.0,0.0,0.0)\n",
       " RGB{N0f8}(0.0,0.0,0.0)  RGB{N0f8}(0.0,0.0,0.0)     RGB{N0f8}(0.0,0.0,0.0)\n",
       " RGB{N0f8}(0.0,0.0,0.0)  RGB{N0f8}(0.0,0.0,0.0)     RGB{N0f8}(0.0,0.0,0.0)\n",
       " RGB{N0f8}(0.0,0.0,0.0)  RGB{N0f8}(0.0,0.0,0.0)     RGB{N0f8}(0.0,0.0,0.0)\n",
       " RGB{N0f8}(0.0,0.0,0.0)  RGB{N0f8}(0.0,0.0,0.0)  …  RGB{N0f8}(0.0,0.0,0.0)\n",
       " RGB{N0f8}(0.0,0.0,0.0)  RGB{N0f8}(0.0,0.0,0.0)     RGB{N0f8}(0.0,0.0,0.0)\n",
       " RGB{N0f8}(0.0,0.0,0.0)  RGB{N0f8}(0.0,0.0,0.0)     RGB{N0f8}(0.0,0.0,0.0)\n",
       " RGB{N0f8}(0.0,0.0,0.0)  RGB{N0f8}(0.0,0.0,0.0)     RGB{N0f8}(0.0,0.0,0.0)\n",
       " RGB{N0f8}(0.0,0.0,0.0)  RGB{N0f8}(0.0,0.0,0.0)     RGB{N0f8}(0.0,0.0,0.0)\n",
       " RGB{N0f8}(0.0,0.0,0.0)  RGB{N0f8}(0.0,0.0,0.0)  …  RGB{N0f8}(0.0,0.0,0.0)\n",
       " RGB{N0f8}(0.0,0.0,0.0)  RGB{N0f8}(0.0,0.0,0.0)     RGB{N0f8}(0.0,0.0,0.0)\n",
       " RGB{N0f8}(0.0,0.0,0.0)  RGB{N0f8}(0.0,0.0,0.0)     RGB{N0f8}(0.0,0.0,0.0)\n",
       " ⋮                                               ⋱  \n",
       " RGB{N0f8}(0.0,0.0,0.0)  RGB{N0f8}(0.0,0.0,0.0)     RGB{N0f8}(0.0,0.0,0.0)\n",
       " RGB{N0f8}(0.0,0.0,0.0)  RGB{N0f8}(0.0,0.0,0.0)     RGB{N0f8}(0.0,0.0,0.0)\n",
       " RGB{N0f8}(0.0,0.0,0.0)  RGB{N0f8}(0.0,0.0,0.0)  …  RGB{N0f8}(0.0,0.0,0.0)\n",
       " RGB{N0f8}(0.0,0.0,0.0)  RGB{N0f8}(0.0,0.0,0.0)     RGB{N0f8}(0.0,0.0,0.0)\n",
       " RGB{N0f8}(0.0,0.0,0.0)  RGB{N0f8}(0.0,0.0,0.0)     RGB{N0f8}(0.0,0.0,0.0)\n",
       " RGB{N0f8}(0.0,0.0,0.0)  RGB{N0f8}(0.0,0.0,0.0)     RGB{N0f8}(0.0,0.0,0.0)\n",
       " RGB{N0f8}(0.0,0.0,0.0)  RGB{N0f8}(0.0,0.0,0.0)     RGB{N0f8}(0.0,0.0,0.0)\n",
       " RGB{N0f8}(0.0,0.0,0.0)  RGB{N0f8}(0.0,0.0,0.0)  …  RGB{N0f8}(0.0,0.0,0.0)\n",
       " RGB{N0f8}(0.0,0.0,0.0)  RGB{N0f8}(0.0,0.0,0.0)     RGB{N0f8}(0.0,0.0,0.0)\n",
       " RGB{N0f8}(0.0,0.0,0.0)  RGB{N0f8}(0.0,0.0,0.0)     RGB{N0f8}(0.0,0.0,0.0)\n",
       " RGB{N0f8}(0.0,0.0,0.0)  RGB{N0f8}(0.0,0.0,0.0)     RGB{N0f8}(0.0,0.0,0.0)\n",
       " RGB{N0f8}(0.0,0.0,0.0)  RGB{N0f8}(0.0,0.0,0.0)     RGB{N0f8}(0.0,0.0,0.0)"
      ]
     },
     "execution_count": 7,
     "metadata": {},
     "output_type": "execute_result"
    }
   ],
   "source": [
    "t = [0, 0, 2.]\n",
    "cov_t = [.1 0 0; 0 .1 0; 0 0 .1]\n",
    "r = [0, π, 0]\n",
    "monkey.pose.t = Translation(t)\n",
    "monkey.pose.R = RotZYX(r...)\n",
    "cube.pose.t = Translation(t + [0.5, 0, 0.2])\n",
    "camera.pose.R = lookat(camera, monkey, [0, 1, 0]);\n",
    "colorize_depth(render_depth(scene))"
   ]
  },
  {
   "cell_type": "markdown",
   "metadata": {},
   "source": [
    "# Probabilistic Model\n"
   ]
  },
  {
   "cell_type": "markdown",
   "metadata": {},
   "source": [
    "Soss expects a symbol on the left side -> workaround is to encapsulate everything in one function. This also cleans up the code.\n"
   ]
  },
  {
   "cell_type": "code",
   "execution_count": 8,
   "metadata": {},
   "outputs": [
    {
     "data": {
      "image/png": "[encoded data removed]",
      "text/plain": [
       "150×150 Array{RGB,2} with eltype RGB:\n",
       " RGB{N0f8}(0.0,0.0,0.0)  RGB{N0f8}(0.0,0.0,0.0)  …  RGB{N0f8}(0.0,0.0,0.0)\n",
       " RGB{N0f8}(0.0,0.0,0.0)  RGB{N0f8}(0.0,0.0,0.0)     RGB{N0f8}(0.0,0.0,0.0)\n",
       " RGB{N0f8}(0.0,0.0,0.0)  RGB{N0f8}(0.0,0.0,0.0)     RGB{N0f8}(0.0,0.0,0.0)\n",
       " RGB{N0f8}(0.0,0.0,0.0)  RGB{N0f8}(0.0,0.0,0.0)     RGB{N0f8}(0.0,0.0,0.0)\n",
       " RGB{N0f8}(0.0,0.0,0.0)  RGB{N0f8}(0.0,0.0,0.0)     RGB{N0f8}(0.0,0.0,0.0)\n",
       " RGB{N0f8}(0.0,0.0,0.0)  RGB{N0f8}(0.0,0.0,0.0)  …  RGB{N0f8}(0.0,0.0,0.0)\n",
       " RGB{N0f8}(0.0,0.0,0.0)  RGB{N0f8}(0.0,0.0,0.0)     RGB{N0f8}(0.0,0.0,0.0)\n",
       " RGB{N0f8}(0.0,0.0,0.0)  RGB{N0f8}(0.0,0.0,0.0)     RGB{N0f8}(0.0,0.0,0.0)\n",
       " RGB{N0f8}(0.0,0.0,0.0)  RGB{N0f8}(0.0,0.0,0.0)     RGB{N0f8}(0.0,0.0,0.0)\n",
       " RGB{N0f8}(0.0,0.0,0.0)  RGB{N0f8}(0.0,0.0,0.0)     RGB{N0f8}(0.0,0.0,0.0)\n",
       " RGB{N0f8}(0.0,0.0,0.0)  RGB{N0f8}(0.0,0.0,0.0)  …  RGB{N0f8}(0.0,0.0,0.0)\n",
       " RGB{N0f8}(0.0,0.0,0.0)  RGB{N0f8}(0.0,0.0,0.0)     RGB{N0f8}(0.0,0.0,0.0)\n",
       " RGB{N0f8}(0.0,0.0,0.0)  RGB{N0f8}(0.0,0.0,0.0)     RGB{N0f8}(0.0,0.0,0.0)\n",
       " ⋮                                               ⋱  \n",
       " RGB{N0f8}(0.0,0.0,0.0)  RGB{N0f8}(0.0,0.0,0.0)     RGB{N0f8}(0.0,0.0,0.0)\n",
       " RGB{N0f8}(0.0,0.0,0.0)  RGB{N0f8}(0.0,0.0,0.0)     RGB{N0f8}(0.0,0.0,0.0)\n",
       " RGB{N0f8}(0.0,0.0,0.0)  RGB{N0f8}(0.0,0.0,0.0)  …  RGB{N0f8}(0.0,0.0,0.0)\n",
       " RGB{N0f8}(0.0,0.0,0.0)  RGB{N0f8}(0.0,0.0,0.0)     RGB{N0f8}(0.0,0.0,0.0)\n",
       " RGB{N0f8}(0.0,0.0,0.0)  RGB{N0f8}(0.0,0.0,0.0)     RGB{N0f8}(0.0,0.0,0.0)\n",
       " RGB{N0f8}(0.0,0.0,0.0)  RGB{N0f8}(0.0,0.0,0.0)     RGB{N0f8}(0.0,0.0,0.0)\n",
       " RGB{N0f8}(0.0,0.0,0.0)  RGB{N0f8}(0.0,0.0,0.0)     RGB{N0f8}(0.0,0.0,0.0)\n",
       " RGB{N0f8}(0.0,0.0,0.0)  RGB{N0f8}(0.0,0.0,0.0)  …  RGB{N0f8}(0.0,0.0,0.0)\n",
       " RGB{N0f8}(0.0,0.0,0.0)  RGB{N0f8}(0.0,0.0,0.0)     RGB{N0f8}(0.0,0.0,0.0)\n",
       " RGB{N0f8}(0.0,0.0,0.0)  RGB{N0f8}(0.0,0.0,0.0)     RGB{N0f8}(0.0,0.0,0.0)\n",
       " RGB{N0f8}(0.0,0.0,0.0)  RGB{N0f8}(0.0,0.0,0.0)     RGB{N0f8}(0.0,0.0,0.0)\n",
       " RGB{N0f8}(0.0,0.0,0.0)  RGB{N0f8}(0.0,0.0,0.0)     RGB{N0f8}(0.0,0.0,0.0)"
      ]
     },
     "execution_count": 8,
     "metadata": {},
     "output_type": "execute_result"
    }
   ],
   "source": [
    "function render_pose_depth(scene, t, r)\n",
    "    scene.meshes[1].pose.t = Translation(t)\n",
    "    scene.meshes[1].pose.R = RotZYX(r...)\n",
    "    render_depth(scene)\n",
    "end \n",
    "colorize_depth(render_pose_depth(scene, t + [0, 0, -0.5], r + [.5, 0, 0]))"
   ]
  },
  {
   "cell_type": "markdown",
   "metadata": {},
   "source": [
    "Describes how the data is generated given:\n",
    "\n",
    "- A `scene` with all relevant object, the first object is assumed to be the object of interest\n",
    "- The RFID measurement for the position with the mean and covariance `mean_t` & `cov_t`\n",
    "- The model will be conditioned on the depth image `y`\n"
   ]
  },
  {
   "cell_type": "code",
   "execution_count": 9,
   "metadata": {},
   "outputs": [],
   "source": [
    "# TODO Outliers must be handled by preprocessing\n",
    "const MAX_DIST = 3.0\n",
    "const PIXEL_σ = 0.01\n",
    "# θ=1/λ\n",
    "const PIXEL_θ = 1/0.5\n",
    "depth_model = @model scene, mean_t, cov_t begin\n",
    "    # Sample position from RFID position\n",
    "    t ~ MvNormal(mean_t, cov_t)\n",
    "    # We don't know anything about the orientation\n",
    "    r ~ For(1:3) do _ CircularUniform() end\n",
    "    # Render scene\n",
    "    μ = render_pose_depth(scene, t, r)\n",
    "\n",
    "    # occlusion model\n",
    "    occ_prob ~ For(eachindex(μ)) do _ Uniform() end\n",
    "    occluded .~ Bernoulli.(occ_prob)\n",
    "\n",
    "    # sensor model\n",
    "    y ~ For(eachindex(μ)) do i\n",
    "        if (μ[i] != 0)\n",
    "            if occluded[i]\n",
    "                # TODO check Distributions.jl parametrization\n",
    "                Exponential(PIXEL_θ)\n",
    "            else\n",
    "                PIXEL_σmal(μ[i], PIXEL_σ)\n",
    "            end\n",
    "        else\n",
    "            Uniform(0, MAX_DIST)\n",
    "        end\n",
    "    end\n",
    "end;"
   ]
  },
  {
   "cell_type": "code",
   "execution_count": 10,
   "metadata": {},
   "outputs": [
    {
     "data": {
      "text/plain": [
       "(t = [1.0, 7.0, -0.1], r = [1.0, 0.7168146928204135, 6.183185307179587])"
      ]
     },
     "execution_count": 10,
     "metadata": {},
     "output_type": "execute_result"
    }
   ],
   "source": [
    "# TODO Transformation for this model manually\n",
    "tr = as((;\n",
    "    t=as(Vector, asℝ, 3),\n",
    "    r=as(Vector, as○, 3),\n",
    "        ))\n",
    "TransformVariables.transform(tr, [1,7,-0.1,1,7,-0.1])"
   ]
  },
  {
   "cell_type": "code",
   "execution_count": 17,
   "metadata": {},
   "outputs": [
    {
     "ename": "LoadError",
     "evalue": "MethodError: no method matching rand(::Random._GLOBAL_RNG, ::Type{Float64}, ::Uniform{Float64})\n\u001b[0mClosest candidates are:\n\u001b[0m  rand(::Random.AbstractRNG, ::Type, \u001b[91m::MeasureBase.DensityMeasure\u001b[39m) at /home/rd/.julia/packages/MeasureBase/1l3hY/src/density.jl:64\n\u001b[0m  rand(::Random.AbstractRNG, ::Type{T}, \u001b[91m::MeasureBase.TupleProductMeasure\u001b[39m) where T at /home/rd/.julia/packages/MeasureBase/1l3hY/src/combinators/product.jl:85\n\u001b[0m  rand(::Random.AbstractRNG, ::Type, \u001b[91m::MeasureBase.SpikeMixture\u001b[39m) at /home/rd/.julia/packages/MeasureBase/1l3hY/src/combinators/spikemixture.jl:32\n\u001b[0m  ...",
     "output_type": "error",
     "traceback": [
      "MethodError: no method matching rand(::Random._GLOBAL_RNG, ::Type{Float64}, ::Uniform{Float64})\n\u001b[0mClosest candidates are:\n\u001b[0m  rand(::Random.AbstractRNG, ::Type, \u001b[91m::MeasureBase.DensityMeasure\u001b[39m) at /home/rd/.julia/packages/MeasureBase/1l3hY/src/density.jl:64\n\u001b[0m  rand(::Random.AbstractRNG, ::Type{T}, \u001b[91m::MeasureBase.TupleProductMeasure\u001b[39m) where T at /home/rd/.julia/packages/MeasureBase/1l3hY/src/combinators/product.jl:85\n\u001b[0m  rand(::Random.AbstractRNG, ::Type, \u001b[91m::MeasureBase.SpikeMixture\u001b[39m) at /home/rd/.julia/packages/MeasureBase/1l3hY/src/combinators/spikemixture.jl:32\n\u001b[0m  ...",
      "",
      "Stacktrace:",
      "  [1] _rand(rng::Random._GLOBAL_RNG, #unused#::Type{Float64}, d::MeasureBase.ProductMeasure{typeof(identity), typeof(identity), Vector{Uniform{Float64}}}, mar::MappedArrays.ReadonlyMappedArray{Uniform{Float64}, 1, Vector{Uniform{Float64}}, MeasureBase.Kernel{typeof(identity), typeof(identity)}})",
      "    @ MeasureBase ~/.julia/packages/MeasureBase/1l3hY/src/combinators/product.jl:153",
      "  [2] rand(rng::Random._GLOBAL_RNG, #unused#::Type{Float64}, d::MeasureBase.ProductMeasure{typeof(identity), typeof(identity), Vector{Uniform{Float64}}})",
      "    @ MeasureBase ~/.julia/packages/MeasureBase/1l3hY/src/combinators/product.jl:57",
      "  [3] rand(rng::Random._GLOBAL_RNG, d::MeasureBase.ProductMeasure{typeof(identity), typeof(identity), Vector{Uniform{Float64}}})",
      "    @ MeasureBase ~/.julia/packages/MeasureBase/1l3hY/src/rand.jl:7",
      "  [4] macro expansion",
      "    @ ~/.julia/packages/GeneralizedGenerated/PV9u7/src/ngg/runtime_fns.jl:116 [inlined]",
      "  [5] (::ggfunc-function)(pargs::Random._GLOBAL_RNG; pkwargs::Base.Iterators.Pairs{Union{}, Union{}, Tuple{}, NamedTuple{(), Tuple{}}})",
      "    @ GeneralizedGenerated.NGG ~/.julia/packages/GeneralizedGenerated/PV9u7/src/ngg/runtime_fns.jl:83",
      "  [6] (::ggfunc-function)(pargs::Random._GLOBAL_RNG)",
      "    @ GeneralizedGenerated.NGG ~/.julia/packages/GeneralizedGenerated/PV9u7/src/ngg/runtime_fns.jl:83",
      "  [7] rand",
      "    @ ~/.julia/packages/Soss/b4pBv/src/primitives/rand.jl:28 [inlined]",
      "  [8] rand(m::Model{NamedTuple{(), T} where T<:Tuple, GeneralizedGenerated.NGG.TypeLevel{Expr, \"Buf{23}()\"}, GeneralizedGenerated.NGG.TypeLevel{Module, \"Buf{17}()\"}})",
      "    @ Soss ~/.julia/packages/Soss/b4pBv/src/primitives/rand.jl:31",
      "  [9] top-level scope",
      "    @ In[17]:6",
      " [10] eval",
      "    @ ./boot.jl:360 [inlined]",
      " [11] include_string(mapexpr::typeof(REPL.softscope), mod::Module, code::String, filename::String)",
      "    @ Base ./loading.jl:1116"
     ]
    }
   ],
   "source": [
    "test_model = @model begin\n",
    "    # r ~ For(1:3) do _ Uniform() end\n",
    "    upper = [2π,2π,2π]\n",
    "    r .~ UniformInterval.(0, upper)\n",
    "end\n",
    "Meas\n",
    "#rand(test_model)\n",
    "#rand(test_model)"
   ]
  },
  {
   "cell_type": "markdown",
   "metadata": {
    "tags": []
   },
   "source": [
    "Generate one sample from the probabilistic model. Ideally, this should be representative for a measurement, we expect from the real world scene and sensor.\n"
   ]
  },
  {
   "cell_type": "code",
   "execution_count": 11,
   "metadata": {},
   "outputs": [
    {
     "ename": "LoadError",
     "evalue": "MethodError: no method matching rand(::Random._GLOBAL_RNG, ::Type{Float64}, ::Uniform{Float64})\n\u001b[0mClosest candidates are:\n\u001b[0m  rand(::Random.AbstractRNG, ::Type{X}) where X at /buildworker/worker/package_linux64/build/usr/share/julia/stdlib/v1.6/Random/src/Random.jl:256\n\u001b[0m  rand(::Random.AbstractRNG, ::Type, \u001b[91m::MeasureTheory.Poisson{(:logλ,), T} where T\u001b[39m) at /home/rd/.julia/packages/MeasureTheory/RpwzD/src/parameterized/poisson.jl:26\n\u001b[0m  rand(::Random.AbstractRNG, ::Type, \u001b[91m::MeasureTheory.Poisson{(:λ,), T} where T\u001b[39m) at /home/rd/.julia/packages/MeasureTheory/RpwzD/src/parameterized/poisson.jl:25\n\u001b[0m  ...",
     "output_type": "error",
     "traceback": [
      "MethodError: no method matching rand(::Random._GLOBAL_RNG, ::Type{Float64}, ::Uniform{Float64})\n\u001b[0mClosest candidates are:\n\u001b[0m  rand(::Random.AbstractRNG, ::Type{X}) where X at /buildworker/worker/package_linux64/build/usr/share/julia/stdlib/v1.6/Random/src/Random.jl:256\n\u001b[0m  rand(::Random.AbstractRNG, ::Type, \u001b[91m::MeasureTheory.Poisson{(:logλ,), T} where T\u001b[39m) at /home/rd/.julia/packages/MeasureTheory/RpwzD/src/parameterized/poisson.jl:26\n\u001b[0m  rand(::Random.AbstractRNG, ::Type, \u001b[91m::MeasureTheory.Poisson{(:λ,), T} where T\u001b[39m) at /home/rd/.julia/packages/MeasureTheory/RpwzD/src/parameterized/poisson.jl:25\n\u001b[0m  ...",
      "",
      "Stacktrace:",
      "  [1] _rand(rng::Random._GLOBAL_RNG, #unused#::Type{Float64}, d::MeasureBase.ProductMeasure{ggfunc-function, typeof(identity), UnitRange{Int64}}, mar::MappedArrays.ReadonlyMappedArray{Uniform{Float64}, 1, UnitRange{Int64}, MeasureBase.Kernel{ggfunc-function, typeof(identity)}})",
      "    @ MeasureBase ~/.julia/packages/MeasureBase/YuZEM/src/combinators/product.jl:153",
      "  [2] rand(rng::Random._GLOBAL_RNG, #unused#::Type{Float64}, d::MeasureBase.ProductMeasure{ggfunc-function, typeof(identity), UnitRange{Int64}})",
      "    @ MeasureBase ~/.julia/packages/MeasureBase/YuZEM/src/combinators/product.jl:57",
      "  [3] rand(rng::Random._GLOBAL_RNG, d::MeasureBase.ProductMeasure{ggfunc-function, typeof(identity), UnitRange{Int64}})",
      "    @ MeasureBase ~/.julia/packages/MeasureBase/YuZEM/src/rand.jl:7",
      "  [4] macro expansion",
      "    @ ~/.julia/packages/GeneralizedGenerated/PV9u7/src/ngg/runtime_fns.jl:116 [inlined]",
      "  [5] (::ggfunc-function)(::Vector{Float64}, ::Scene, ::Matrix{Float64}, ::Random._GLOBAL_RNG; pkwargs::Base.Iterators.Pairs{Union{}, Union{}, Tuple{}, NamedTuple{(), Tuple{}}})",
      "    @ GeneralizedGenerated.NGG ~/.julia/packages/GeneralizedGenerated/PV9u7/src/ngg/runtime_fns.jl:83",
      "  [6] RuntimeFn",
      "    @ ~/.julia/packages/GeneralizedGenerated/PV9u7/src/ngg/runtime_fns.jl:83 [inlined]",
      "  [7] #_#4",
      "    @ ~/.julia/packages/GeneralizedGenerated/PV9u7/src/closure.jl:6 [inlined]",
      "  [8] Closure",
      "    @ ~/.julia/packages/GeneralizedGenerated/PV9u7/src/closure.jl:6 [inlined]",
      "  [9] rand",
      "    @ ~/.julia/packages/Soss/b4pBv/src/primitives/rand.jl:20 [inlined]",
      " [10] rand(m::Soss.ConditionalModel{NamedTuple{(:scene, :mean_t, :cov_t), T} where T<:Tuple, GeneralizedGenerated.NGG.TypeLevel{Expr, \"Buf{23}()\"}, GeneralizedGenerated.NGG.TypeLevel{Module, \"Buf{17}()\"}, NamedTuple{(:scene, :mean_t, :cov_t), Tuple{Scene, Vector{Float64}, Matrix{Float64}}}, NamedTuple{(), Tuple{}}})",
      "    @ Soss ~/.julia/packages/Soss/b4pBv/src/primitives/rand.jl:24",
      " [11] top-level scope",
      "    @ In[11]:2",
      " [12] eval",
      "    @ ./boot.jl:360 [inlined]",
      " [13] include_string(mapexpr::typeof(REPL.softscope), mod::Module, code::String, filename::String)",
      "    @ Base ./loading.jl:1116"
     ]
    }
   ],
   "source": [
    "concrete_model = depth_model(scene=scene, mean_t=t, cov_t=cov_t)\n",
    "prior_depth = rand(concrete_model)\n",
    "colorize_depth(prior_depth.y)"
   ]
  },
  {
   "cell_type": "markdown",
   "metadata": {},
   "source": [
    "# Metropolis Hastings implementation\n",
    "Store the required variables in a struct:\n",
    "- `m`: the full model\n",
    "- `proposals`: variables to propose, other variables are sampled via ancestral sampling\n",
    "- `data`: fit the model parameters to these observations\n",
    "- `q`: model for the variables in `proposals`, e.g. before(m, (:a, :b))(args)\n",
    "- `f`: model for the internal variables, must not include observations, moves params to args, e.g. predictive(m, (:a, :b))(args)\n",
    "- `ℓ`: logdensity for the model parameters θ conditioned on the data, e.g. ℓ(θ)=logdensity(m(args) | data, θ)"
   ]
  },
  {
   "cell_type": "code",
   "execution_count": null,
   "metadata": {},
   "outputs": [],
   "source": [
    "# Immutable for a given set of args and parameters -> new data new MetropolisHastings\n",
    "struct MetropolisHastings\n",
    "    m::Soss.AbstractModel\n",
    "    propsals::Tuple\n",
    "    data::NamedTuple \n",
    "    q::Soss.ConditionalModel\n",
    "    f::Soss.ConditionalModel\n",
    "    ℓ::Function\n",
    "end\n",
    "\n",
    "function MetropolisHastings(m::Soss.Model, args::NamedTuple, proposals::Tuple, data::NamedTuple)\n",
    "    # only proposal variables\n",
    "    q = Soss.before(m, proposals...)(args)\n",
    "    # other variables except observations, moves params to args\n",
    "    f = prior(predictive(m, proposals...), keys(data)...)(args)\n",
    "    # function to calculate the loglikelihood\n",
    "    ℓ(θ) = logdensity(m(args) | data, θ)\n",
    "    MetropolisHastings(m, proposals, data, q, f, ℓ)\n",
    "end\n",
    "\n",
    "args = (;scene=scene, mean_t=t, cov_t=cov_t)\n",
    "proposals = (:t, :r_uniform, :occ_prob)\n",
    "data = (;y=nominal_depth)\n",
    "mh = MetropolisHastings(depth_model, args, proposals, data);"
   ]
  },
  {
   "cell_type": "markdown",
   "metadata": {},
   "source": [
    "# Proposals\n",
    "## Prior Proposal\n",
    "Draws a random sample from the prior distribution. Results in a worse acceptance rate, if the posterior is focused on a small parameter space."
   ]
  },
  {
   "cell_type": "code",
   "execution_count": null,
   "metadata": {},
   "outputs": [],
   "source": [
    "function propose_prior(mh::MetropolisHastings)\n",
    "  ## propose, predict, concatenate, weight\n",
    "  s1 = rand(mh.q)\n",
    "  s2 = rand(mh.f(s1))\n",
    "  s = (;s1..., s2...)\n",
    "  Weighted(mh.ℓ(s), s)\n",
    "end\n",
    "s1 = propose_prior(mh)\n",
    "s2 = propose_prior(mh);"
   ]
  },
  {
   "cell_type": "markdown",
   "metadata": {},
   "source": [
    "# Gaussian Proposal\n",
    "Propose a new sample from the old sample `s` by sampling using a normal distribution centered around the value of the old parameter.\n",
    "Might lead to a higher acceptance rate for focused posteriors.\n",
    "Current implementation is brittle: If the parameters are bounded, e.g. $\\lambda$ of a Poisson distribution. Mature libraries like Turing.jl typically take care of this by transforming variables to the space of all real numbers and back to the constrained space."
   ]
  },
  {
   "cell_type": "markdown",
   "metadata": {},
   "source": [
    "# TODO does not work yet, probably the occlusion\n",
    "```julia\n",
    "function propose_normal(mh::MetropolisHastings, s::Weighted, σ=0.01)\n",
    "  old_sample = s.val\n",
    "  s1 = (;)\n",
    "  for (k, v) in pairs(old_sample)\n",
    "    # Other variables are sampled via f\n",
    "    if k in mh.propsals\n",
    "      # TODO parameter values might become invalid (i.e. negative for poisson)\n",
    "      new_val = rand.(Normal.(v, σ))\n",
    "      # if the parameter is an integer, the new one should also be\n",
    "      if v isa Int\n",
    "        new_val = Int(round(new_v))\n",
    "      end\n",
    "      s1 = merge(s1, (;k => new_val))\n",
    "    end\n",
    "  end\n",
    "  s2 = rand(mh.f(s1))\n",
    "  s = (;s1..., s2...)\n",
    "  Weighted(mh.ℓ(s), s)\n",
    "end\n",
    "s2 = propose_normal(mh, s1, 2)\n",
    "```"
   ]
  },
  {
   "cell_type": "markdown",
   "metadata": {},
   "source": [
    "# Kernels\n",
    "Returns either the `old_sample` or the `new_sample` depending on their probability and the `acceptance` rate $\\in [0,1]$ . Simplified by using a normal distribution for the proposal, which is symmetric."
   ]
  },
  {
   "cell_type": "code",
   "execution_count": null,
   "metadata": {},
   "outputs": [],
   "source": [
    "function mh_symmetric_kernel(old_sample::Weighted, new_sample::Weighted)\n",
    "  u = rand(Uniform())\n",
    "  # Mind the log-domain: division becomes subtraction\n",
    "  if log(u) > new_sample.ℓ - old_sample.ℓ\n",
    "    # reject\n",
    "    return old_sample\n",
    "  else\n",
    "    # accept (always the case if difference positive since log([0,1])->[-inf,0])\n",
    "    return new_sample\n",
    "  end\n",
    "end\n",
    "mh_symmetric_kernel(s1, s2);"
   ]
  },
  {
   "cell_type": "markdown",
   "metadata": {},
   "source": [
    "# Evaluation"
   ]
  },
  {
   "cell_type": "code",
   "execution_count": null,
   "metadata": {},
   "outputs": [],
   "source": [
    "function sample_chain(;num_samples = 1_000, use_threads=true)\n",
    "    chain = [propose_prior(mh)]\n",
    "    lk = SpinLock()\n",
    "    @maybethreads use_threads for _ in 2:num_samples\n",
    "        lock(lk)\n",
    "        try\n",
    "            new_sample = last(chain)\n",
    "        finally\n",
    "            unlock(lk)\n",
    "        end\n",
    "        # worse mixing than normal\n",
    "        new_sample = propose_prior(mh)\n",
    "        new_sample = mh_symmetric_kernel(last(chain), new_sample)\n",
    "        lock(lk)\n",
    "        try\n",
    "            push!(chain, new_sample)\n",
    "        finally\n",
    "            unlock(lk)\n",
    "        end\n",
    "    end\n",
    "    chain\n",
    "end;"
   ]
  },
  {
   "cell_type": "code",
   "execution_count": null,
   "metadata": {},
   "outputs": [],
   "source": [
    "chain = sample_chain(num_samples = 20_000, use_threads=true)"
   ]
  },
  {
   "cell_type": "markdown",
   "metadata": {},
   "source": [
    "# Plots\n",
    "A sample is a tuple of the log-likelihood and the vales. Therefore, create a new dataframe, which has the likelihood in the same row as the samples value."
   ]
  },
  {
   "cell_type": "code",
   "execution_count": null,
   "metadata": {},
   "outputs": [],
   "source": [
    "df_c = DataFrame(chain)\n",
    "df = DataFrame(df_c.val)\n",
    "df[!,:ℓ] = df_c.ℓ;"
   ]
  },
  {
   "cell_type": "code",
   "execution_count": null,
   "metadata": {},
   "outputs": [],
   "source": [
    "t_samples = hcat(df.t...)'\n",
    "l1 = plot(t_samples[:,1], title=\"t[1] samples\")\n",
    "d1 = StatsPlots.density(t_samples[:,1], title=\"t[1] density\")\n",
    "l2 = plot(t_samples[:,2], title=\"t[2] samples\")\n",
    "d2 = StatsPlots.density(t_samples[:,2], title=\"t[2] density\")\n",
    "l3 = plot(t_samples[:,3], title=\"t[3] samples\")\n",
    "d3 = StatsPlots.density(t_samples[:,3], title=\"t[3] density\")\n",
    "plot(l1, d1, l2, d2, l3, d3, layout=(3,2), legend=false)"
   ]
  },
  {
   "cell_type": "code",
   "execution_count": null,
   "metadata": {},
   "outputs": [],
   "source": [
    "r_samples = hcat(df.r...)'\n",
    "l1 = plot(r_samples[:,1], title=\"r[1] samples\")\n",
    "d1 = StatsPlots.density(r_samples[:,1], title=\"r[1] density\")\n",
    "l2 = plot(r_samples[:,2], title=\"r[2] samples\")\n",
    "d2 = StatsPlots.density(r_samples[:,2], title=\"r[2] density\")\n",
    "l3 = plot(r_samples[:,3], title=\"r[3] samples\")\n",
    "d3 = StatsPlots.density(r_samples[:,3], title=\"r[3] density\")\n",
    "plot(l1, d1, l2, d2, l3, d3, layout=(3,2), legend=false)"
   ]
  },
  {
   "cell_type": "code",
   "execution_count": null,
   "metadata": {},
   "outputs": [],
   "source": [
    "colorview(Gray, mean(df.occ_prob))"
   ]
  },
  {
   "cell_type": "markdown",
   "metadata": {},
   "source": [
    "# Benchmark Broadcasting vs Loop\n"
   ]
  },
  {
   "cell_type": "code",
   "execution_count": null,
   "metadata": {},
   "outputs": [],
   "source": [
    "BenchmarkTools.DEFAULT_PARAMETERS.seconds = 60\n",
    "@benchmark sample_chain(num_samples = 5_000, use_threads=false)"
   ]
  },
  {
   "cell_type": "code",
   "execution_count": null,
   "metadata": {},
   "outputs": [],
   "source": [
    "BenchmarkTools.DEFAULT_PARAMETERS.seconds = 60\n",
    "@benchmark sample_chain(num_samples = 5_000, use_threads=true)"
   ]
  },
  {
   "cell_type": "markdown",
   "metadata": {},
   "source": [
    "# Scratchpad"
   ]
  },
  {
   "cell_type": "raw",
   "metadata": {},
   "source": [
    "simple_depth_model = @model scene, mean_t, cov_t begin\n",
    "    # Sample position from RFID position\n",
    "    t ~ MvNormal(mean_t, cov_t)\n",
    "    # We don't know anything about the orientation\n",
    "    r ~ For(1:3) do _ Uniform(0, 2π) end\n",
    "    \n",
    "    # Render scene\n",
    "    μ = render_pose_depth(scene, t, r)\n",
    "\n",
    "    # sensor model\n",
    "    y ~ For(eachindex(μ)) do i\n",
    "        Normal(μ[i], 0.1)\n",
    "    end\n",
    "end;"
   ]
  }
 ],
 "metadata": {
  "kernelspec": {
   "display_name": "Julia 6 Threads 1.6.3",
   "language": "julia",
   "name": "julia-6-threads-1.6"
  },
  "language_info": {
   "file_extension": ".jl",
   "mimetype": "application/julia",
   "name": "julia",
   "version": "1.6.3"
  }
 },
 "nbformat": 4,
 "nbformat_minor": 4
}
