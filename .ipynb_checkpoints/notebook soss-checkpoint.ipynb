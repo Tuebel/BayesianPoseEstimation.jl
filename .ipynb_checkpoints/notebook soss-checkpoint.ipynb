{
 "cells": [
  {
   "cell_type": "markdown",
   "metadata": {
    "tags": []
   },
   "source": [
    "# Parallelization\n",
    "\n",
    "## Notes on Parallelization in Turing.jl\n",
    "\n",
    "`~` is only thread safe for observations not assumptions: https://github.com/TuringLang/Turing.jl/blob/master/HISTORY.md\n",
    "\n",
    "This makes sampling from the prior a bit difficult, since we need to fill the observation with an assumption.\n",
    "However, the following macro can be used to disable threading depending on a condition. Usage:\n",
    "\n",
    "```julia\n",
    "@maybethreads <condition> for ...\n",
    "```\n",
    "\n",
    "## Install multi-threaded kernel"
   ]
  },
  {
   "cell_type": "markdown",
   "metadata": {},
   "source": [
    "```julia\n",
    "using Pkg\n",
    "Pkg.activate(\"\")\n",
    "using IJulia\n",
    "IJulia.installkernel(\"Julia 6 Threads\", env=Dict(\n",
    "    \"JULIA_NUM_THREADS\" => \"6\",\n",
    "))\n",
    "```"
   ]
  },
  {
   "cell_type": "code",
   "execution_count": 1,
   "metadata": {},
   "outputs": [
    {
     "data": {
      "text/plain": [
       "@maybethreads (macro with 1 method)"
      ]
     },
     "execution_count": 1,
     "metadata": {},
     "output_type": "execute_result"
    }
   ],
   "source": [
    "using Base.Threads\n",
    "macro maybethreads(cond, ex)\n",
    "    return esc(:($cond ? (@threads $ex) : $ex))\n",
    "end"
   ]
  },
  {
   "cell_type": "code",
   "execution_count": 2,
   "metadata": {
    "tags": []
   },
   "outputs": [
    {
     "name": "stdout",
     "output_type": "stream",
     "text": [
      "7 10 9 3 1 5 8 4 6 2 "
     ]
    },
    {
     "data": {
      "text/plain": [
       "6"
      ]
     },
     "execution_count": 2,
     "metadata": {},
     "output_type": "execute_result"
    }
   ],
   "source": [
    "@maybethreads true for i in 1:10\n",
    "    print(\"$i \")\n",
    "end\n",
    "Threads.nthreads()"
   ]
  },
  {
   "cell_type": "markdown",
   "metadata": {},
   "source": [
    "# Setup Environment\n"
   ]
  },
  {
   "cell_type": "code",
   "execution_count": 6,
   "metadata": {
    "tags": []
   },
   "outputs": [
    {
     "name": "stderr",
     "output_type": "stream",
     "text": [
      "\u001b[32m\u001b[1m  Activating\u001b[22m\u001b[39m environment at `~/code/mcmc-depth-images/Project.toml`\n",
      "\u001b[32m\u001b[1mPrecompiling\u001b[22m\u001b[39m project...\n",
      "\u001b[32m  ✓ \u001b[39mBenchmarkTools\n",
      "\u001b[33m  ✓ \u001b[39m\u001b[90mPolynomials\u001b[39m\n",
      "\u001b[33m  ✓ \u001b[39m\u001b[90mSimplePolynomials\u001b[39m\n",
      "\u001b[33m  ✓ \u001b[39m\u001b[90mLinearAlgebraX\u001b[39m\n",
      "\u001b[33m  ✓ \u001b[39m\u001b[90mSimpleGraphs\u001b[39m\n",
      "\u001b[32m  ✓ \u001b[39mStatsPlots\n",
      "\u001b[33m  ✓ \u001b[39m\u001b[90mSimplePosets\u001b[39m\n",
      "\u001b[33m  ✓ \u001b[39mSoss\n",
      "\u001b[32m  ✓ \u001b[39mMCMCDepth\n",
      "  9 dependencies successfully precompiled in 46 seconds (356 already precompiled)\n",
      "  \u001b[33m6\u001b[39m dependencies precompiled but different versions are currently loaded. Restart julia to access the new versions\n",
      "┌ Info: Precompiling MCMCDepth [ea9e20e3-5ec9-4a18-b9a5-f98be19e20e6]\n",
      "└ @ Base loading.jl:1342\n",
      "\u001b[33m\u001b[1m┌ \u001b[22m\u001b[39m\u001b[33m\u001b[1mWarning: \u001b[22m\u001b[39mModule Soss with build ID 11795572354051 is missing from the cache.\n",
      "\u001b[33m\u001b[1m│ \u001b[22m\u001b[39mThis may mean Soss [8ce77f84-9b61-11e8-39ff-d17a774bf41c] does not support precompilation but is imported by a module that does.\n",
      "\u001b[33m\u001b[1m└ \u001b[22m\u001b[39m\u001b[90m@ Base loading.jl:1030\u001b[39m\n",
      "┌ Info: Skipping precompilation since __precompile__(false). Importing MCMCDepth [ea9e20e3-5ec9-4a18-b9a5-f98be19e20e6].\n",
      "└ @ Base loading.jl:1047\n",
      "┌ Info: Precompiling BenchmarkTools [6e4b80f9-dd63-53aa-95a3-0cdb28fa8baf]\n",
      "└ @ Base loading.jl:1342\n",
      "┌ Info: Precompiling StatsPlots [f3b207a7-027a-5e70-b257-86293d7955fd]\n",
      "└ @ Base loading.jl:1342\n",
      "┌ Info: For saving to png with the Plotly backend PlotlyBase has to be installed.\n",
      "└ @ Plots /home/rd/.julia/packages/Plots/1RWWg/src/backends.jl:432\n"
     ]
    },
    {
     "data": {
      "text/plain": [
       "Plots.PlotlyBackend()"
      ]
     },
     "execution_count": 6,
     "metadata": {},
     "output_type": "execute_result"
    }
   ],
   "source": [
    "using Pkg\n",
    "Pkg.activate(\".\")\n",
    "Pkg.instantiate()\n",
    "using MCMCDepth\n",
    "using GLAbstraction, GLFW, SciGL\n",
    "# TODO How to avoid adding them (automatically install / use with SciGL.jl)\n",
    "using LinearAlgebra, CoordinateTransformations, Rotations\n",
    "using Images\n",
    "using Soss, MeasureTheory\n",
    "using BenchmarkTools, DataFrames, StatsPlots\n",
    "plotly()"
   ]
  },
  {
   "cell_type": "markdown",
   "metadata": {},
   "source": [
    "# Initialize the **OpenGL** offscreen render context\n"
   ]
  },
  {
   "cell_type": "code",
   "execution_count": 4,
   "metadata": {},
   "outputs": [],
   "source": [
    "const WIDTH = 150\n",
    "const HEIGHT = 150\n",
    "# Create the GLFW window. This sets all the hints and makes the context current.\n",
    "window = context_offscreen(WIDTH, HEIGHT)\n",
    "# Buffer\n",
    "framebuffer = depth_framebuffer(WIDTH, HEIGHT)\n",
    "enable_depth_stencil()\n",
    "set_clear_color()\n",
    "# Shader Program\n",
    "depth_prog = GLAbstraction.Program(SimpleVert, DepthFrag);"
   ]
  },
  {
   "cell_type": "markdown",
   "metadata": {},
   "source": [
    "Load the the camera and mesh. Wrap them in a scene for simplified rendering.\n"
   ]
  },
  {
   "cell_type": "code",
   "execution_count": 5,
   "metadata": {},
   "outputs": [],
   "source": [
    "camera = CvCamera(WIDTH, HEIGHT, 1.2 * WIDTH, 1.2 * HEIGHT, WIDTH / 2, HEIGHT / 2) |> SceneObject\n",
    "monkey = load_mesh(depth_prog, \"meshes/monkey.obj\") |> SceneObject\n",
    "cube = load_mesh(depth_prog, \"meshes/cube.obj\") |> SceneObject\n",
    "scene = Scene(camera, [monkey, cube]);"
   ]
  },
  {
   "cell_type": "code",
   "execution_count": 6,
   "metadata": {},
   "outputs": [],
   "source": [
    "function render_depth(scene::Scene)\n",
    "    GLAbstraction.bind(framebuffer)\n",
    "    clear_buffers()\n",
    "    draw(depth_prog, scene)\n",
    "    # load float values\n",
    "    img = channelview(gpu_data(framebuffer, 1))\n",
    "    transpose(img[:,end:-1:1])\n",
    "end;"
   ]
  },
  {
   "cell_type": "markdown",
   "metadata": {},
   "source": [
    "# Render the nominal scene\n"
   ]
  },
  {
   "cell_type": "code",
   "execution_count": 7,
   "metadata": {},
   "outputs": [
    {
     "data": {
      "image/png": "[encoded data removed]",
      "text/plain": [
       "150×150 Array{RGB,2} with eltype RGB:\n",
       " RGB{N0f8}(0.0,0.0,0.0)  RGB{N0f8}(0.0,0.0,0.0)  …  RGB{N0f8}(0.0,0.0,0.0)\n",
       " RGB{N0f8}(0.0,0.0,0.0)  RGB{N0f8}(0.0,0.0,0.0)     RGB{N0f8}(0.0,0.0,0.0)\n",
       " RGB{N0f8}(0.0,0.0,0.0)  RGB{N0f8}(0.0,0.0,0.0)     RGB{N0f8}(0.0,0.0,0.0)\n",
       " RGB{N0f8}(0.0,0.0,0.0)  RGB{N0f8}(0.0,0.0,0.0)     RGB{N0f8}(0.0,0.0,0.0)\n",
       " RGB{N0f8}(0.0,0.0,0.0)  RGB{N0f8}(0.0,0.0,0.0)     RGB{N0f8}(0.0,0.0,0.0)\n",
       " RGB{N0f8}(0.0,0.0,0.0)  RGB{N0f8}(0.0,0.0,0.0)  …  RGB{N0f8}(0.0,0.0,0.0)\n",
       " RGB{N0f8}(0.0,0.0,0.0)  RGB{N0f8}(0.0,0.0,0.0)     RGB{N0f8}(0.0,0.0,0.0)\n",
       " RGB{N0f8}(0.0,0.0,0.0)  RGB{N0f8}(0.0,0.0,0.0)     RGB{N0f8}(0.0,0.0,0.0)\n",
       " RGB{N0f8}(0.0,0.0,0.0)  RGB{N0f8}(0.0,0.0,0.0)     RGB{N0f8}(0.0,0.0,0.0)\n",
       " RGB{N0f8}(0.0,0.0,0.0)  RGB{N0f8}(0.0,0.0,0.0)     RGB{N0f8}(0.0,0.0,0.0)\n",
       " RGB{N0f8}(0.0,0.0,0.0)  RGB{N0f8}(0.0,0.0,0.0)  …  RGB{N0f8}(0.0,0.0,0.0)\n",
       " RGB{N0f8}(0.0,0.0,0.0)  RGB{N0f8}(0.0,0.0,0.0)     RGB{N0f8}(0.0,0.0,0.0)\n",
       " RGB{N0f8}(0.0,0.0,0.0)  RGB{N0f8}(0.0,0.0,0.0)     RGB{N0f8}(0.0,0.0,0.0)\n",
       " ⋮                                               ⋱  \n",
       " RGB{N0f8}(0.0,0.0,0.0)  RGB{N0f8}(0.0,0.0,0.0)     RGB{N0f8}(0.0,0.0,0.0)\n",
       " RGB{N0f8}(0.0,0.0,0.0)  RGB{N0f8}(0.0,0.0,0.0)     RGB{N0f8}(0.0,0.0,0.0)\n",
       " RGB{N0f8}(0.0,0.0,0.0)  RGB{N0f8}(0.0,0.0,0.0)  …  RGB{N0f8}(0.0,0.0,0.0)\n",
       " RGB{N0f8}(0.0,0.0,0.0)  RGB{N0f8}(0.0,0.0,0.0)     RGB{N0f8}(0.0,0.0,0.0)\n",
       " RGB{N0f8}(0.0,0.0,0.0)  RGB{N0f8}(0.0,0.0,0.0)     RGB{N0f8}(0.0,0.0,0.0)\n",
       " RGB{N0f8}(0.0,0.0,0.0)  RGB{N0f8}(0.0,0.0,0.0)     RGB{N0f8}(0.0,0.0,0.0)\n",
       " RGB{N0f8}(0.0,0.0,0.0)  RGB{N0f8}(0.0,0.0,0.0)     RGB{N0f8}(0.0,0.0,0.0)\n",
       " RGB{N0f8}(0.0,0.0,0.0)  RGB{N0f8}(0.0,0.0,0.0)  …  RGB{N0f8}(0.0,0.0,0.0)\n",
       " RGB{N0f8}(0.0,0.0,0.0)  RGB{N0f8}(0.0,0.0,0.0)     RGB{N0f8}(0.0,0.0,0.0)\n",
       " RGB{N0f8}(0.0,0.0,0.0)  RGB{N0f8}(0.0,0.0,0.0)     RGB{N0f8}(0.0,0.0,0.0)\n",
       " RGB{N0f8}(0.0,0.0,0.0)  RGB{N0f8}(0.0,0.0,0.0)     RGB{N0f8}(0.0,0.0,0.0)\n",
       " RGB{N0f8}(0.0,0.0,0.0)  RGB{N0f8}(0.0,0.0,0.0)     RGB{N0f8}(0.0,0.0,0.0)"
      ]
     },
     "execution_count": 7,
     "metadata": {},
     "output_type": "execute_result"
    }
   ],
   "source": [
    "t = [0, 0, 2.]\n",
    "cov_t = [.1 0 0; 0 .1 0; 0 0 .1]\n",
    "r = [0, π, 0]\n",
    "monkey.pose.t = Translation(t)\n",
    "monkey.pose.R = RotZYX(r...)\n",
    "cube.pose.t = Translation(t + [0.5, 0, 0.2])\n",
    "camera.pose.R = lookat(camera, monkey, [0, 1, 0]);\n",
    "nominal_depth = render_depth(scene)\n",
    "colorize_depth(nominal_depth)"
   ]
  },
  {
   "cell_type": "markdown",
   "metadata": {},
   "source": [
    "# Probabilistic Model\n"
   ]
  },
  {
   "cell_type": "markdown",
   "metadata": {},
   "source": [
    "Soss expects a symbol on the left side -> workaround is to encapsulate everything in one function. This also cleans up the code.\n"
   ]
  },
  {
   "cell_type": "code",
   "execution_count": 8,
   "metadata": {},
   "outputs": [
    {
     "data": {
      "image/png": "[encoded data removed]",
      "text/plain": [
       "150×150 Array{RGB,2} with eltype RGB:\n",
       " RGB{N0f8}(0.0,0.0,0.0)  RGB{N0f8}(0.0,0.0,0.0)  …  RGB{N0f8}(0.0,0.0,0.0)\n",
       " RGB{N0f8}(0.0,0.0,0.0)  RGB{N0f8}(0.0,0.0,0.0)     RGB{N0f8}(0.0,0.0,0.0)\n",
       " RGB{N0f8}(0.0,0.0,0.0)  RGB{N0f8}(0.0,0.0,0.0)     RGB{N0f8}(0.0,0.0,0.0)\n",
       " RGB{N0f8}(0.0,0.0,0.0)  RGB{N0f8}(0.0,0.0,0.0)     RGB{N0f8}(0.0,0.0,0.0)\n",
       " RGB{N0f8}(0.0,0.0,0.0)  RGB{N0f8}(0.0,0.0,0.0)     RGB{N0f8}(0.0,0.0,0.0)\n",
       " RGB{N0f8}(0.0,0.0,0.0)  RGB{N0f8}(0.0,0.0,0.0)  …  RGB{N0f8}(0.0,0.0,0.0)\n",
       " RGB{N0f8}(0.0,0.0,0.0)  RGB{N0f8}(0.0,0.0,0.0)     RGB{N0f8}(0.0,0.0,0.0)\n",
       " RGB{N0f8}(0.0,0.0,0.0)  RGB{N0f8}(0.0,0.0,0.0)     RGB{N0f8}(0.0,0.0,0.0)\n",
       " RGB{N0f8}(0.0,0.0,0.0)  RGB{N0f8}(0.0,0.0,0.0)     RGB{N0f8}(0.0,0.0,0.0)\n",
       " RGB{N0f8}(0.0,0.0,0.0)  RGB{N0f8}(0.0,0.0,0.0)     RGB{N0f8}(0.0,0.0,0.0)\n",
       " RGB{N0f8}(0.0,0.0,0.0)  RGB{N0f8}(0.0,0.0,0.0)  …  RGB{N0f8}(0.0,0.0,0.0)\n",
       " RGB{N0f8}(0.0,0.0,0.0)  RGB{N0f8}(0.0,0.0,0.0)     RGB{N0f8}(0.0,0.0,0.0)\n",
       " RGB{N0f8}(0.0,0.0,0.0)  RGB{N0f8}(0.0,0.0,0.0)     RGB{N0f8}(0.0,0.0,0.0)\n",
       " ⋮                                               ⋱  \n",
       " RGB{N0f8}(0.0,0.0,0.0)  RGB{N0f8}(0.0,0.0,0.0)     RGB{N0f8}(0.0,0.0,0.0)\n",
       " RGB{N0f8}(0.0,0.0,0.0)  RGB{N0f8}(0.0,0.0,0.0)     RGB{N0f8}(0.0,0.0,0.0)\n",
       " RGB{N0f8}(0.0,0.0,0.0)  RGB{N0f8}(0.0,0.0,0.0)  …  RGB{N0f8}(0.0,0.0,0.0)\n",
       " RGB{N0f8}(0.0,0.0,0.0)  RGB{N0f8}(0.0,0.0,0.0)     RGB{N0f8}(0.0,0.0,0.0)\n",
       " RGB{N0f8}(0.0,0.0,0.0)  RGB{N0f8}(0.0,0.0,0.0)     RGB{N0f8}(0.0,0.0,0.0)\n",
       " RGB{N0f8}(0.0,0.0,0.0)  RGB{N0f8}(0.0,0.0,0.0)     RGB{N0f8}(0.0,0.0,0.0)\n",
       " RGB{N0f8}(0.0,0.0,0.0)  RGB{N0f8}(0.0,0.0,0.0)     RGB{N0f8}(0.0,0.0,0.0)\n",
       " RGB{N0f8}(0.0,0.0,0.0)  RGB{N0f8}(0.0,0.0,0.0)  …  RGB{N0f8}(0.0,0.0,0.0)\n",
       " RGB{N0f8}(0.0,0.0,0.0)  RGB{N0f8}(0.0,0.0,0.0)     RGB{N0f8}(0.0,0.0,0.0)\n",
       " RGB{N0f8}(0.0,0.0,0.0)  RGB{N0f8}(0.0,0.0,0.0)     RGB{N0f8}(0.0,0.0,0.0)\n",
       " RGB{N0f8}(0.0,0.0,0.0)  RGB{N0f8}(0.0,0.0,0.0)     RGB{N0f8}(0.0,0.0,0.0)\n",
       " RGB{N0f8}(0.0,0.0,0.0)  RGB{N0f8}(0.0,0.0,0.0)     RGB{N0f8}(0.0,0.0,0.0)"
      ]
     },
     "execution_count": 8,
     "metadata": {},
     "output_type": "execute_result"
    }
   ],
   "source": [
    "function render_pose_depth(scene, t, r)\n",
    "    scene.meshes[1].pose.t = Translation(t)\n",
    "    scene.meshes[1].pose.R = RotZYX(r...)\n",
    "    render_depth(scene)\n",
    "end \n",
    "colorize_depth(render_pose_depth(scene, t + [0, 0, -0.5], r + [.5, 0, 0]))"
   ]
  },
  {
   "cell_type": "code",
   "execution_count": 7,
   "metadata": {},
   "outputs": [
    {
     "data": {
      "text/plain": [
       "@model (mean_t, cov_t) begin\n",
       "        r_uniform ~ For(1:3) do _\n",
       "                Uniform()\n",
       "            end\n",
       "        r = (2π) * r_uniform\n",
       "        t ~ MvNormal(mean_t, cov_t)\n",
       "    end\n"
      ]
     },
     "execution_count": 7,
     "metadata": {},
     "output_type": "execute_result"
    }
   ],
   "source": [
    "pose_prior = @model mean_t, cov_t begin\n",
    "    t ~ MvNormal(mean_t, cov_t)\n",
    "    # We don't know anything about the orientation\n",
    "    r_uniform ~ For(1:3) do _ Uniform() end\n",
    "    r = 2π * r_uniform\n",
    "end"
   ]
  },
  {
   "cell_type": "markdown",
   "metadata": {},
   "source": [
    "Describes how the data is generated given:\n",
    "\n",
    "- A `scene` with all relevant object, the first object is assumed to be the object of interest\n",
    "- The RFID measurement for the position with the mean and covariance `mean_t` & `cov_t`\n",
    "- The model will be conditioned on the depth image `y`\n"
   ]
  },
  {
   "cell_type": "code",
   "execution_count": 9,
   "metadata": {},
   "outputs": [
    {
     "data": {
      "text/plain": [
       "@model (scene, mean_t, cov_t) begin\n",
       "        r_uniform ~ For(1:3) do _\n",
       "                Uniform()\n",
       "            end\n",
       "        r = (2π) * r_uniform\n",
       "        t ~ MvNormal(mean_t, cov_t)\n",
       "        μ = render_pose_depth(scene, t, r)\n",
       "        occ_prob ~ For(eachindex(μ)) do _\n",
       "                Uniform()\n",
       "            end\n",
       "        occluded ~ For(identity, Bernoulli.(occ_prob))\n",
       "        y ~ For(eachindex(μ)) do i\n",
       "                if μ[i] != 0\n",
       "                    if occluded[i]\n",
       "                        Exponential(1)\n",
       "                    else\n",
       "                        Normal(μ[i], 0.05)\n",
       "                    end\n",
       "                else\n",
       "                    Uniform()\n",
       "                end\n",
       "            end\n",
       "    end\n"
      ]
     },
     "execution_count": 9,
     "metadata": {},
     "output_type": "execute_result"
    }
   ],
   "source": [
    "depth_model = @model scene, mean_t, cov_t begin\n",
    "    # Sample position from RFID position\n",
    "    t ~ MvNormal(mean_t, cov_t)\n",
    "    # We don't know anything about the orientation\n",
    "    r_uniform ~ For(1:3) do _ Uniform() end\n",
    "    r = 2π * r_uniform\n",
    "    # Render scene\n",
    "    μ = render_pose_depth(scene, t, r)\n",
    "\n",
    "    # occlusion model\n",
    "    occ_prob ~ For(eachindex(μ)) do _ Uniform() end\n",
    "    occluded .~ Bernoulli.(occ_prob)\n",
    "\n",
    "    # sensor model\n",
    "    y ~ For(eachindex(μ)) do i\n",
    "        if (μ[i] != 0)\n",
    "            if occluded[i]\n",
    "                Exponential(1)\n",
    "            else\n",
    "                Normal(μ[i], 0.05)\n",
    "            end\n",
    "        else\n",
    "            # don't care if nothing is rendered\n",
    "            Uniform()\n",
    "        end\n",
    "    end\n",
    "end"
   ]
  },
  {
   "cell_type": "code",
   "execution_count": 10,
   "metadata": {},
   "outputs": [],
   "source": [
    "depth_model = @model scene, mean_t, cov_t begin\n",
    "    # Sample position from RFID position\n",
    "    t ~ MvNormal(mean_t, cov_t)\n",
    "    # We don't know anything about the orientation\n",
    "    r_uniform ~ For(1:3) do _ Uniform() end\n",
    "    r = 2π * r_uniform\n",
    "    # Render scene\n",
    "    μ = render_pose_depth(scene, t, r)\n",
    "\n",
    "    # occlusion model\n",
    "    occ_prob ~ For(eachindex(μ)) do _ Uniform() end\n",
    "    occluded .~ Bernoulli.(occ_prob)\n",
    "\n",
    "    # sensor model\n",
    "    y ~ For(eachindex(μ)) do i\n",
    "        if (μ[i] != 0)\n",
    "            if occluded[i]\n",
    "                Exponential(1)\n",
    "            else\n",
    "                Normal(μ[i], 0.05)\n",
    "            end\n",
    "        else\n",
    "            # don't care if nothing is rendered\n",
    "            Uniform()\n",
    "        end\n",
    "    end\n",
    "end;"
   ]
  },
  {
   "cell_type": "code",
   "execution_count": 11,
   "metadata": {},
   "outputs": [],
   "source": [
    "simple_depth_model = @model scene, mean_t, cov_t begin\n",
    "    # Sample position from RFID position\n",
    "    t ~ MvNormal(mean_t, cov_t)\n",
    "    # We don't know anything about the orientation\n",
    "    r_uniform ~ For(1:3) do _ Uniform() end\n",
    "    r = 2π * r_uniform\n",
    "    # Render scene\n",
    "    μ = render_pose_depth(scene, t, r)\n",
    "\n",
    "    # sensor model\n",
    "    y ~ For(eachindex(μ)) do i\n",
    "        Normal(μ[i], 0.1)\n",
    "    end\n",
    "end;"
   ]
  },
  {
   "cell_type": "markdown",
   "metadata": {
    "tags": []
   },
   "source": [
    "Generate one sample from the probabilistic model. Ideally, this should be representative for a measurement, we expect from the real world scene and sensor.\n"
   ]
  },
  {
   "cell_type": "code",
   "execution_count": 12,
   "metadata": {},
   "outputs": [
    {
     "data": {
      "image/png": "[encoded data removed]",
      "text/plain": [
       "150×150 Array{RGB,2} with eltype RGB:\n",
       " RGB{Float64}(0.983895,0.904871,0.136917)   …  RGB{Float64}(0.856118,0.888639,0.0974067)\n",
       " RGB{Float64}(0.753457,0.875172,0.142304)      RGB{Float64}(0.854561,0.888445,0.0977262)\n",
       " RGB{Float64}(0.707276,0.868342,0.170936)      RGB{Float64}(0.842511,0.886939,0.100575)\n",
       " RGB{Float64}(0.936441,0.898639,0.108391)      RGB{Float64}(0.943547,0.899548,0.111827)\n",
       " RGB{Float64}(0.848297,0.887663,0.0991013)     RGB{Float64}(0.91755,0.896255,0.101162)\n",
       " RGB{Float64}(0.71078,0.868885,0.168698)    …  RGB{Float64}(0.705476,0.868062,0.172089)\n",
       " RGB{Float64}(0.842549,0.886944,0.100564)      RGB{Float64}(0.892495,0.893143,0.0959692)\n",
       " RGB{Float64}(0.92516,0.897211,0.103749)       RGB{Float64}(0.987944,0.905428,0.139956)\n",
       " RGB{Float64}(0.706553,0.86823,0.171399)       RGB{Float64}(0.968394,0.902789,0.126247)\n",
       " RGB{Float64}(0.839019,0.8865,0.101573)        RGB{Float64}(0.681163,0.864178,0.18777)\n",
       " RGB{Float64}(0.677044,0.863501,0.190443)   …  RGB{Float64}(0.87205,0.890615,0.0955351)\n",
       " RGB{Float64}(0.886704,0.892427,0.0954154)     RGB{Float64}(0.732835,0.8722,0.15483)\n",
       " RGB{Float64}(0.716962,0.869827,0.164778)      RGB{Float64}(0.877444,0.891283,0.0952657)\n",
       " ⋮                                          ⋱  \n",
       " RGB{Float64}(0.883616,0.892046,0.0953414)     RGB{Float64}(0.883764,0.892064,0.0953432)\n",
       " RGB{Float64}(0.943144,0.899496,0.111633)      RGB{Float64}(0.965045,0.902343,0.124041)\n",
       " RGB{Float64}(0.88138,0.891769,0.095314)    …  RGB{Float64}(0.971371,0.903185,0.128209)\n",
       " RGB{Float64}(0.791444,0.880369,0.121202)      RGB{Float64}(0.81919,0.883984,0.108508)\n",
       " RGB{Float64}(0.945628,0.899814,0.112834)      RGB{Float64}(0.856874,0.888733,0.0972957)\n",
       " RGB{Float64}(0.879224,0.891503,0.0952875)     RGB{Float64}(0.751641,0.874916,0.143375)\n",
       " RGB{Float64}(0.851213,0.888027,0.0984613)     RGB{Float64}(0.844057,0.887133,0.100132)\n",
       " RGB{Float64}(0.843226,0.887029,0.10037)    …  RGB{Float64}(0.954683,0.900985,0.11779)\n",
       " RGB{Float64}(0.791917,0.880432,0.120958)      RGB{Float64}(0.709184,0.86864,0.169715)\n",
       " RGB{Float64}(0.886281,0.892375,0.0953749)     RGB{Float64}(0.888997,0.892711,0.0956347)\n",
       " RGB{Float64}(0.864732,0.889709,0.0961411)     RGB{Float64}(0.886253,0.892372,0.0953738)\n",
       " RGB{Float64}(0.691529,0.86586,0.181057)       RGB{Float64}(0.680401,0.864054,0.188263)"
      ]
     },
     "execution_count": 12,
     "metadata": {},
     "output_type": "execute_result"
    }
   ],
   "source": [
    "concrete_model = depth_model(scene=scene, mean_t=t, cov_t=cov_t)\n",
    "prior_depth = rand(concrete_model)\n",
    "colorize_depth(prior_depth.y)"
   ]
  },
  {
   "cell_type": "markdown",
   "metadata": {},
   "source": [
    "# Metropolis Hastings implementation\n",
    "Store the required variables in a struct:\n",
    "- `m`: the full model\n",
    "- `proposals`: variables to propose, other variables are sampled via ancestral sampling\n",
    "- `data`: fit the model parameters to these observations\n",
    "- `q`: model for the variables in `proposals`, e.g. before(m, (:a, :b))(args)\n",
    "- `f`: model for the internal variables, must not include observations, moves params to args, e.g. predictive(m, (:a, :b))(args)\n",
    "- `ℓ`: logdensity for the model parameters θ conditioned on the data, e.g. ℓ(θ)=logdensity(m(args) | data, θ)"
   ]
  },
  {
   "cell_type": "code",
   "execution_count": 13,
   "metadata": {},
   "outputs": [],
   "source": [
    "# Immutable for a given set of args and parameters -> new data new MetropolisHastings\n",
    "struct MetropolisHastings\n",
    "    m::Soss.AbstractModel\n",
    "    propsals::Tuple\n",
    "    data::NamedTuple \n",
    "    q::Soss.ConditionalModel\n",
    "    f::Soss.ConditionalModel\n",
    "    ℓ::Function\n",
    "end\n",
    "\n",
    "function MetropolisHastings(m::Soss.Model, args::NamedTuple, proposals::Tuple, data::NamedTuple)\n",
    "    # only proposal variables\n",
    "    q = Soss.before(m, proposals...)(args)\n",
    "    # other variables except observations, moves params to args\n",
    "    f = prior(predictive(m, proposals...), keys(data)...)(args)\n",
    "    # function to calculate the loglikelihood\n",
    "    ℓ(θ) = logdensity(m(args) | data, θ)\n",
    "    MetropolisHastings(m, proposals, data, q, f, ℓ)\n",
    "end\n",
    "\n",
    "args = (;scene=scene, mean_t=t, cov_t=cov_t)\n",
    "proposals = (:t, :r_uniform, :occ_prob)\n",
    "data = (;y=nominal_depth)\n",
    "mh = MetropolisHastings(depth_model, args, proposals, data);"
   ]
  },
  {
   "cell_type": "markdown",
   "metadata": {},
   "source": [
    "# Proposals\n",
    "## Prior Proposal\n",
    "Draws a random sample from the prior distribution. Results in a worse acceptance rate, if the posterior is focused on a small parameter space."
   ]
  },
  {
   "cell_type": "code",
   "execution_count": 14,
   "metadata": {},
   "outputs": [],
   "source": [
    "function propose_prior(mh::MetropolisHastings)\n",
    "  ## propose, predict, concatenate, weight\n",
    "  s1 = rand(mh.q)\n",
    "  s2 = rand(mh.f(s1))\n",
    "  s = (;s1..., s2...)\n",
    "  Weighted(mh.ℓ(s), s)\n",
    "end\n",
    "s1 = propose_prior(mh)\n",
    "s2 = propose_prior(mh);"
   ]
  },
  {
   "cell_type": "markdown",
   "metadata": {},
   "source": [
    "# Gaussian Proposal\n",
    "Propose a new sample from the old sample `s` by sampling using a normal distribution centered around the value of the old parameter.\n",
    "Might lead to a higher acceptance rate for focused posteriors.\n",
    "Current implementation is brittle: If the parameters are bounded, e.g. $\\lambda$ of a Poisson distribution. Mature libraries like Turing.jl typically take care of this by transforming variables to the space of all real numbers and back to the constrained space."
   ]
  },
  {
   "cell_type": "markdown",
   "metadata": {},
   "source": [
    "# TODO does not work yet, probably the occlusion\n",
    "```julia\n",
    "function propose_normal(mh::MetropolisHastings, s::Weighted, σ=0.01)\n",
    "  old_sample = s.val\n",
    "  s1 = (;)\n",
    "  for (k, v) in pairs(old_sample)\n",
    "    # Other variables are sampled via f\n",
    "    if k in mh.propsals\n",
    "      # TODO parameter values might become invalid (i.e. negative for poisson)\n",
    "      new_val = rand.(Normal.(v, σ))\n",
    "      # if the parameter is an integer, the new one should also be\n",
    "      if v isa Int\n",
    "        new_val = Int(round(new_v))\n",
    "      end\n",
    "      s1 = merge(s1, (;k => new_val))\n",
    "    end\n",
    "  end\n",
    "  s2 = rand(mh.f(s1))\n",
    "  s = (;s1..., s2...)\n",
    "  Weighted(mh.ℓ(s), s)\n",
    "end\n",
    "s2 = propose_normal(mh, s1, 2)\n",
    "```"
   ]
  },
  {
   "cell_type": "markdown",
   "metadata": {},
   "source": [
    "# Kernels\n",
    "Returns either the `old_sample` or the `new_sample` depending on their probability and the `acceptance` rate $\\in [0,1]$ . Simplified by using a normal distribution for the proposal, which is symmetric."
   ]
  },
  {
   "cell_type": "code",
   "execution_count": 15,
   "metadata": {},
   "outputs": [],
   "source": [
    "function mh_symmetric_kernel(old_sample::Weighted, new_sample::Weighted)\n",
    "  u = rand(Uniform())\n",
    "  # Mind the log-domain: division becomes subtraction\n",
    "  if log(u) > new_sample.ℓ - old_sample.ℓ\n",
    "    # reject\n",
    "    return old_sample\n",
    "  else\n",
    "    # accept (always the case if difference positive since log([0,1])->[-inf,0])\n",
    "    return new_sample\n",
    "  end\n",
    "end\n",
    "mh_symmetric_kernel(s1, s2);"
   ]
  },
  {
   "cell_type": "markdown",
   "metadata": {},
   "source": [
    "# Evaluation"
   ]
  },
  {
   "cell_type": "code",
   "execution_count": 16,
   "metadata": {},
   "outputs": [],
   "source": [
    "function sample_chain(;num_samples = 1_000, use_threads=true)\n",
    "    chain = [propose_prior(mh)]\n",
    "    lk = SpinLock()\n",
    "    @maybethreads use_threads for _ in 2:num_samples\n",
    "        lock(lk)\n",
    "        try\n",
    "            new_sample = last(chain)\n",
    "        finally\n",
    "            unlock(lk)\n",
    "        end\n",
    "        # worse mixing than normal\n",
    "        new_sample = propose_prior(mh)\n",
    "        new_sample = mh_symmetric_kernel(last(chain), new_sample)\n",
    "        lock(lk)\n",
    "        try\n",
    "            push!(chain, new_sample)\n",
    "        finally\n",
    "            unlock(lk)\n",
    "        end\n",
    "    end\n",
    "    chain\n",
    "end;"
   ]
  },
  {
   "cell_type": "code",
   "execution_count": 18,
   "metadata": {},
   "outputs": [
    {
     "ename": "LoadError",
     "evalue": "TaskFailedException\n\n\u001b[91m    nested task error: \u001b[39mUndefRefError: access to undefined reference\n    Stacktrace:\n     [1] \u001b[0m\u001b[1mgetindex\u001b[22m\n    \u001b[90m   @ \u001b[39m\u001b[90m./\u001b[39m\u001b[90;4marray.jl:805\u001b[0m\u001b[90m [inlined]\u001b[39m\n     [2] \u001b[0m\u001b[1mlast\u001b[22m\n    \u001b[90m   @ \u001b[39m\u001b[90m./\u001b[39m\u001b[90;4mabstractarray.jl:437\u001b[0m\u001b[90m [inlined]\u001b[39m\n     [3] \u001b[0m\u001b[1mmacro expansion\u001b[22m\n    \u001b[90m   @ \u001b[39m\u001b[90m./\u001b[39m\u001b[90;4mIn[17]:13\u001b[0m\u001b[90m [inlined]\u001b[39m\n     [4] \u001b[0m\u001b[1m(::var\"#92#threadsfor_fun#4\"{SpinLock, Vector{Weighted{Float64, NamedTuple{(:r, :μ, :r_uniform, :t, :occ_prob, :occluded), Tuple{Vector{Float64}, Transpose{Float32, Matrix{Float32}}, Vector{Float64}, Vector{Float64}, Matrix{Float64}, Matrix{Bool}}}}}, UnitRange{Int64}})\u001b[22m\u001b[0m\u001b[1m(\u001b[22m\u001b[90monethread\u001b[39m::\u001b[0mBool\u001b[0m\u001b[1m)\u001b[22m\n    \u001b[90m   @ \u001b[39m\u001b[35mMain\u001b[39m \u001b[90m./\u001b[39m\u001b[90;4mthreadingconstructs.jl:81\u001b[0m\n     [5] \u001b[0m\u001b[1m(::var\"#92#threadsfor_fun#4\"{SpinLock, Vector{Weighted{Float64, NamedTuple{(:r, :μ, :r_uniform, :t, :occ_prob, :occluded), Tuple{Vector{Float64}, Transpose{Float32, Matrix{Float32}}, Vector{Float64}, Vector{Float64}, Matrix{Float64}, Matrix{Bool}}}}}, UnitRange{Int64}})\u001b[22m\u001b[0m\u001b[1m(\u001b[22m\u001b[0m\u001b[1m)\u001b[22m\n    \u001b[90m   @ \u001b[39m\u001b[35mMain\u001b[39m \u001b[90m./\u001b[39m\u001b[90;4mthreadingconstructs.jl:48\u001b[0m",
     "output_type": "error",
     "traceback": [
      "TaskFailedException\n\n\u001b[91m    nested task error: \u001b[39mUndefRefError: access to undefined reference\n    Stacktrace:\n     [1] \u001b[0m\u001b[1mgetindex\u001b[22m\n    \u001b[90m   @ \u001b[39m\u001b[90m./\u001b[39m\u001b[90;4marray.jl:805\u001b[0m\u001b[90m [inlined]\u001b[39m\n     [2] \u001b[0m\u001b[1mlast\u001b[22m\n    \u001b[90m   @ \u001b[39m\u001b[90m./\u001b[39m\u001b[90;4mabstractarray.jl:437\u001b[0m\u001b[90m [inlined]\u001b[39m\n     [3] \u001b[0m\u001b[1mmacro expansion\u001b[22m\n    \u001b[90m   @ \u001b[39m\u001b[90m./\u001b[39m\u001b[90;4mIn[17]:13\u001b[0m\u001b[90m [inlined]\u001b[39m\n     [4] \u001b[0m\u001b[1m(::var\"#92#threadsfor_fun#4\"{SpinLock, Vector{Weighted{Float64, NamedTuple{(:r, :μ, :r_uniform, :t, :occ_prob, :occluded), Tuple{Vector{Float64}, Transpose{Float32, Matrix{Float32}}, Vector{Float64}, Vector{Float64}, Matrix{Float64}, Matrix{Bool}}}}}, UnitRange{Int64}})\u001b[22m\u001b[0m\u001b[1m(\u001b[22m\u001b[90monethread\u001b[39m::\u001b[0mBool\u001b[0m\u001b[1m)\u001b[22m\n    \u001b[90m   @ \u001b[39m\u001b[35mMain\u001b[39m \u001b[90m./\u001b[39m\u001b[90;4mthreadingconstructs.jl:81\u001b[0m\n     [5] \u001b[0m\u001b[1m(::var\"#92#threadsfor_fun#4\"{SpinLock, Vector{Weighted{Float64, NamedTuple{(:r, :μ, :r_uniform, :t, :occ_prob, :occluded), Tuple{Vector{Float64}, Transpose{Float32, Matrix{Float32}}, Vector{Float64}, Vector{Float64}, Matrix{Float64}, Matrix{Bool}}}}}, UnitRange{Int64}})\u001b[22m\u001b[0m\u001b[1m(\u001b[22m\u001b[0m\u001b[1m)\u001b[22m\n    \u001b[90m   @ \u001b[39m\u001b[35mMain\u001b[39m \u001b[90m./\u001b[39m\u001b[90;4mthreadingconstructs.jl:48\u001b[0m",
      "",
      "Stacktrace:",
      " [1] wait",
      "   @ ./task.jl:322 [inlined]",
      " [2] threading_run(func::Function)",
      "   @ Base.Threads ./threadingconstructs.jl:34",
      " [3] macro expansion",
      "   @ ./threadingconstructs.jl:93 [inlined]",
      " [4] sample_chain(; num_samples::Int64, use_threads::Bool)",
      "   @ Main ./In[17]:4",
      " [5] top-level scope",
      "   @ In[18]:1",
      " [6] eval",
      "   @ ./boot.jl:360 [inlined]",
      " [7] include_string(mapexpr::typeof(REPL.softscope), mod::Module, code::String, filename::String)",
      "   @ Base ./loading.jl:1116"
     ]
    }
   ],
   "source": [
    "chain = sample_chain(num_samples = 20_000, use_threads=true)"
   ]
  },
  {
   "cell_type": "markdown",
   "metadata": {},
   "source": [
    "# Plots\n",
    "A sample is a tuple of the log-likelihood and the vales. Therefore, create a new dataframe, which has the likelihood in the same row as the samples value."
   ]
  },
  {
   "cell_type": "code",
   "execution_count": 18,
   "metadata": {},
   "outputs": [
    {
     "ename": "LoadError",
     "evalue": "UndefVarError: chain not defined",
     "output_type": "error",
     "traceback": [
      "UndefVarError: chain not defined",
      "",
      "Stacktrace:",
      " [1] top-level scope",
      "   @ In[18]:1",
      " [2] eval",
      "   @ ./boot.jl:360 [inlined]",
      " [3] include_string(mapexpr::typeof(REPL.softscope), mod::Module, code::String, filename::String)",
      "   @ Base ./loading.jl:1116"
     ]
    }
   ],
   "source": [
    "df_c = DataFrame(chain)\n",
    "df = DataFrame(df_c.val)\n",
    "df[!,:ℓ] = df_c.ℓ;"
   ]
  },
  {
   "cell_type": "code",
   "execution_count": 19,
   "metadata": {},
   "outputs": [
    {
     "ename": "LoadError",
     "evalue": "UndefVarError: df not defined",
     "output_type": "error",
     "traceback": [
      "UndefVarError: df not defined",
      "",
      "Stacktrace:",
      " [1] top-level scope",
      "   @ In[19]:1",
      " [2] eval",
      "   @ ./boot.jl:360 [inlined]",
      " [3] include_string(mapexpr::typeof(REPL.softscope), mod::Module, code::String, filename::String)",
      "   @ Base ./loading.jl:1116"
     ]
    }
   ],
   "source": [
    "t_samples = hcat(df.t...)'\n",
    "l1 = plot(t_samples[:,1], title=\"t[1] samples\")\n",
    "d1 = StatsPlots.density(t_samples[:,1], title=\"t[1] density\")\n",
    "l2 = plot(t_samples[:,2], title=\"t[2] samples\")\n",
    "d2 = StatsPlots.density(t_samples[:,2], title=\"t[2] density\")\n",
    "l3 = plot(t_samples[:,3], title=\"t[3] samples\")\n",
    "d3 = StatsPlots.density(t_samples[:,3], title=\"t[3] density\")\n",
    "plot(l1, d1, l2, d2, l3, d3, layout=(3,2), legend=false)"
   ]
  },
  {
   "cell_type": "code",
   "execution_count": 20,
   "metadata": {},
   "outputs": [
    {
     "ename": "LoadError",
     "evalue": "UndefVarError: df not defined",
     "output_type": "error",
     "traceback": [
      "UndefVarError: df not defined",
      "",
      "Stacktrace:",
      " [1] top-level scope",
      "   @ In[20]:1",
      " [2] eval",
      "   @ ./boot.jl:360 [inlined]",
      " [3] include_string(mapexpr::typeof(REPL.softscope), mod::Module, code::String, filename::String)",
      "   @ Base ./loading.jl:1116"
     ]
    }
   ],
   "source": [
    "r_samples = hcat(df.r...)'\n",
    "l1 = plot(r_samples[:,1], title=\"r[1] samples\")\n",
    "d1 = StatsPlots.density(r_samples[:,1], title=\"r[1] density\")\n",
    "l2 = plot(r_samples[:,2], title=\"r[2] samples\")\n",
    "d2 = StatsPlots.density(r_samples[:,2], title=\"r[2] density\")\n",
    "l3 = plot(r_samples[:,3], title=\"r[3] samples\")\n",
    "d3 = StatsPlots.density(r_samples[:,3], title=\"r[3] density\")\n",
    "plot(l1, d1, l2, d2, l3, d3, layout=(3,2), legend=false)"
   ]
  },
  {
   "cell_type": "code",
   "execution_count": 21,
   "metadata": {},
   "outputs": [
    {
     "ename": "LoadError",
     "evalue": "UndefVarError: df not defined",
     "output_type": "error",
     "traceback": [
      "UndefVarError: df not defined",
      "",
      "Stacktrace:",
      " [1] top-level scope",
      "   @ In[21]:1",
      " [2] eval",
      "   @ ./boot.jl:360 [inlined]",
      " [3] include_string(mapexpr::typeof(REPL.softscope), mod::Module, code::String, filename::String)",
      "   @ Base ./loading.jl:1116"
     ]
    }
   ],
   "source": [
    "colorview(Gray, mean(df.occ_prob))"
   ]
  },
  {
   "cell_type": "markdown",
   "metadata": {},
   "source": [
    "# Benchmark Broadcasting vs Loop\n"
   ]
  },
  {
   "cell_type": "code",
   "execution_count": 17,
   "metadata": {},
   "outputs": [
    {
     "data": {
      "text/plain": [
       "BenchmarkTools.Trial: 2 samples with 1 evaluation.\n",
       " Range \u001b[90m(\u001b[39m\u001b[36m\u001b[1mmin\u001b[22m\u001b[39m … \u001b[35mmax\u001b[39m\u001b[90m):  \u001b[39m\u001b[36m\u001b[1m37.026 s\u001b[22m\u001b[39m … \u001b[35m40.435 s\u001b[39m  \u001b[90m┊\u001b[39m GC \u001b[90m(\u001b[39mmin … max\u001b[90m): \u001b[39m3.93% … 3.93%\n",
       " Time  \u001b[90m(\u001b[39m\u001b[34m\u001b[1mmedian\u001b[22m\u001b[39m\u001b[90m):     \u001b[39m\u001b[34m\u001b[1m38.731 s             \u001b[22m\u001b[39m\u001b[90m┊\u001b[39m GC \u001b[90m(\u001b[39mmedian\u001b[90m):    \u001b[39m3.93%\n",
       " Time  \u001b[90m(\u001b[39m\u001b[32m\u001b[1mmean\u001b[22m\u001b[39m ± \u001b[32mσ\u001b[39m\u001b[90m):   \u001b[39m\u001b[32m\u001b[1m38.731 s\u001b[22m\u001b[39m ± \u001b[32m 2.410 s\u001b[39m  \u001b[90m┊\u001b[39m GC \u001b[90m(\u001b[39mmean ± σ\u001b[90m):  \u001b[39m3.93% ± 0.00%\n",
       "\n",
       "  \u001b[34m█\u001b[39m\u001b[39m \u001b[39m \u001b[39m \u001b[39m \u001b[39m \u001b[39m \u001b[39m \u001b[39m \u001b[39m \u001b[39m \u001b[39m \u001b[39m \u001b[39m \u001b[39m \u001b[39m \u001b[39m \u001b[39m \u001b[39m \u001b[39m \u001b[39m \u001b[39m \u001b[39m \u001b[39m \u001b[39m \u001b[39m \u001b[39m \u001b[39m \u001b[32m \u001b[39m\u001b[39m \u001b[39m \u001b[39m \u001b[39m \u001b[39m \u001b[39m \u001b[39m \u001b[39m \u001b[39m \u001b[39m \u001b[39m \u001b[39m \u001b[39m \u001b[39m \u001b[39m \u001b[39m \u001b[39m \u001b[39m \u001b[39m \u001b[39m \u001b[39m \u001b[39m \u001b[39m \u001b[39m \u001b[39m \u001b[39m \u001b[39m \u001b[39m█\u001b[39m \u001b[39m \n",
       "  \u001b[34m█\u001b[39m\u001b[39m▁\u001b[39m▁\u001b[39m▁\u001b[39m▁\u001b[39m▁\u001b[39m▁\u001b[39m▁\u001b[39m▁\u001b[39m▁\u001b[39m▁\u001b[39m▁\u001b[39m▁\u001b[39m▁\u001b[39m▁\u001b[39m▁\u001b[39m▁\u001b[39m▁\u001b[39m▁\u001b[39m▁\u001b[39m▁\u001b[39m▁\u001b[39m▁\u001b[39m▁\u001b[39m▁\u001b[39m▁\u001b[39m▁\u001b[39m▁\u001b[32m▁\u001b[39m\u001b[39m▁\u001b[39m▁\u001b[39m▁\u001b[39m▁\u001b[39m▁\u001b[39m▁\u001b[39m▁\u001b[39m▁\u001b[39m▁\u001b[39m▁\u001b[39m▁\u001b[39m▁\u001b[39m▁\u001b[39m▁\u001b[39m▁\u001b[39m▁\u001b[39m▁\u001b[39m▁\u001b[39m▁\u001b[39m▁\u001b[39m▁\u001b[39m▁\u001b[39m▁\u001b[39m▁\u001b[39m▁\u001b[39m▁\u001b[39m▁\u001b[39m█\u001b[39m \u001b[39m▁\n",
       "  37 s\u001b[90m           Histogram: frequency by time\u001b[39m        40.4 s \u001b[0m\u001b[1m<\u001b[22m\n",
       "\n",
       " Memory estimate\u001b[90m: \u001b[39m\u001b[33m21.62 GiB\u001b[39m, allocs estimate\u001b[90m: \u001b[39m\u001b[33m617538099\u001b[39m."
      ]
     },
     "execution_count": 17,
     "metadata": {},
     "output_type": "execute_result"
    }
   ],
   "source": [
    "BenchmarkTools.DEFAULT_PARAMETERS.seconds = 60\n",
    "@benchmark sample_chain(num_samples = 5_000, use_threads=false)"
   ]
  },
  {
   "cell_type": "code",
   "execution_count": null,
   "metadata": {},
   "outputs": [],
   "source": [
    "BenchmarkTools.DEFAULT_PARAMETERS.seconds = 60\n",
    "@benchmark sample_chain(num_samples = 5_000, use_threads=true)"
   ]
  }
 ],
 "metadata": {
  "kernelspec": {
   "display_name": "Julia 6 Threads 1.6.3",
   "language": "julia",
   "name": "julia-6-threads-1.6"
  },
  "language_info": {
   "file_extension": ".jl",
   "mimetype": "application/julia",
   "name": "julia",
   "version": "1.6.3"
  }
 },
 "nbformat": 4,
 "nbformat_minor": 4
}
